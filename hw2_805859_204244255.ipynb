{
 "cells": [
  {
   "cell_type": "markdown",
   "metadata": {
    "id": "YwpRejdaCviD"
   },
   "source": [
    "### IDs:\n",
    "Insert yours IDs to the cell below"
   ]
  },
  {
   "cell_type": "markdown",
   "metadata": {
    "id": "4mRCBS_eCviD"
   },
   "source": [
    "ID #1: 805859\n",
    "\n",
    "ID #2: 204244255\n"
   ]
  },
  {
   "cell_type": "markdown",
   "metadata": {
    "id": "SKYNURAaCviD"
   },
   "source": [
    "## Read the following instructions carefully:\n",
    "\n",
    "1. This jupyter notebook contains all the step by step instructions needed for this exercise.\n",
    "1. You are free to add cells.\n",
    "1. Write your functions and your answers in this jupyter notebook only.\n",
    "1. Answers to theoretical questions should be written in **markdown cells (with $\\LaTeX$ support)**.\n",
    "1. Submit this jupyter notebook only using your ID as a filename. Not to use ZIP or RAR. For example, your Moodle submission file name should look like this (two id numbers): `123456789_987654321.ipynb`."
   ]
  },
  {
   "cell_type": "code",
   "execution_count": 1,
   "metadata": {
    "executionInfo": {
     "elapsed": 1678,
     "status": "ok",
     "timestamp": 1609023745944,
     "user": {
      "displayName": "Joel Liurner",
      "photoUrl": "",
      "userId": "14412342030697815321"
     },
     "user_tz": 180
    },
    "id": "hQKhoDg7TQ3U"
   },
   "outputs": [],
   "source": [
    "import numpy as np\n",
    "import pandas as pd\n",
    "import matplotlib.pyplot as plt\n",
    "import seaborn as sns\n",
    "import scipy.stats as stats\n",
    "from scipy import optimize\n",
    "from math import sqrt\n",
    "from sklearn import mixture"
   ]
  },
  {
   "cell_type": "markdown",
   "metadata": {
    "id": "6SBztSMoCviD"
   },
   "source": [
    "### Question 1 - Data exploration and visialization - practical"
   ]
  },
  {
   "cell_type": "markdown",
   "metadata": {
    "id": "hsFCYRcBCviD"
   },
   "source": [
    "Load Boston dataset from sklearn.\n",
    "Explore the data. follow th instructions below and make sure to support your answers with proper outputs and plots.\n",
    "When plotting, pay close attention to the range of the axis, and include axis labels and a title for the figure.\n",
    "\n",
    "1. describe the dataset. How many samples does it contain? How many features? What isis the data type for each variable?\n",
    "2. Produce a histogram and a boxplot of the nitric oxides concentration. describe the distribution.\n",
    "3. Produce a correlation matrix of all the features. Are there any correlated features? Can you identify one feature with unusual behaviour?\n",
    "4. Select the 2 pairs of features with the highest correlation (positive or negative) and plot 2 scatter plots with marginal histograms (JointPlot). \n",
    "5. Produce a cumulative histogram of the age variable and add two horizontal lines on the first and third quartile (on the cumulative count)\n",
    "6. Identify and report 2 “interesting” trends in the data. No need to provide statistical confidence at this point. "
   ]
  },
  {
   "cell_type": "code",
   "execution_count": 2,
   "metadata": {
    "colab": {
     "base_uri": "https://localhost:8080/"
    },
    "executionInfo": {
     "elapsed": 1581,
     "status": "ok",
     "timestamp": 1609023749734,
     "user": {
      "displayName": "Joel Liurner",
      "photoUrl": "",
      "userId": "14412342030697815321"
     },
     "user_tz": 180
    },
    "id": "SIbRvuKzTN05",
    "outputId": "749a88ee-2637-43c4-cfb1-814b865bf761"
   },
   "outputs": [
    {
     "name": "stdout",
     "output_type": "stream",
     "text": [
      "dict_keys(['data', 'target', 'feature_names', 'DESCR', 'filename'])\n",
      ".. _boston_dataset:\n",
      "\n",
      "Boston house prices dataset\n",
      "---------------------------\n",
      "\n",
      "**Data Set Characteristics:**  \n",
      "\n",
      "    :Number of Instances: 506 \n",
      "\n",
      "    :Number of Attributes: 13 numeric/categorical predictive. Median Value (attribute 14) is usually the target.\n",
      "\n",
      "    :Attribute Information (in order):\n",
      "        - CRIM     per capita crime rate by town\n",
      "        - ZN       proportion of residential land zoned for lots over 25,000 sq.ft.\n",
      "        - INDUS    proportion of non-retail business acres per town\n",
      "        - CHAS     Charles River dummy variable (= 1 if tract bounds river; 0 otherwise)\n",
      "        - NOX      nitric oxides concentration (parts per 10 million)\n",
      "        - RM       average number of rooms per dwelling\n",
      "        - AGE      proportion of owner-occupied units built prior to 1940\n",
      "        - DIS      weighted distances to five Boston employment centres\n",
      "        - RAD      index of accessibility to radial highways\n",
      "        - TAX      full-value property-tax rate per $10,000\n",
      "        - PTRATIO  pupil-teacher ratio by town\n",
      "        - B        1000(Bk - 0.63)^2 where Bk is the proportion of blacks by town\n",
      "        - LSTAT    % lower status of the population\n",
      "        - MEDV     Median value of owner-occupied homes in $1000's\n",
      "\n",
      "    :Missing Attribute Values: None\n",
      "\n",
      "    :Creator: Harrison, D. and Rubinfeld, D.L.\n",
      "\n",
      "This is a copy of UCI ML housing dataset.\n",
      "https://archive.ics.uci.edu/ml/machine-learning-databases/housing/\n",
      "\n",
      "\n",
      "This dataset was taken from the StatLib library which is maintained at Carnegie Mellon University.\n",
      "\n",
      "The Boston house-price data of Harrison, D. and Rubinfeld, D.L. 'Hedonic\n",
      "prices and the demand for clean air', J. Environ. Economics & Management,\n",
      "vol.5, 81-102, 1978.   Used in Belsley, Kuh & Welsch, 'Regression diagnostics\n",
      "...', Wiley, 1980.   N.B. Various transformations are used in the table on\n",
      "pages 244-261 of the latter.\n",
      "\n",
      "The Boston house-price data has been used in many machine learning papers that address regression\n",
      "problems.   \n",
      "     \n",
      ".. topic:: References\n",
      "\n",
      "   - Belsley, Kuh & Welsch, 'Regression diagnostics: Identifying Influential Data and Sources of Collinearity', Wiley, 1980. 244-261.\n",
      "   - Quinlan,R. (1993). Combining Instance-Based and Model-Based Learning. In Proceedings on the Tenth International Conference of Machine Learning, 236-243, University of Massachusetts, Amherst. Morgan Kaufmann.\n",
      "\n"
     ]
    }
   ],
   "source": [
    "from sklearn.datasets import load_boston\n",
    "boston_data = load_boston()\n",
    "print(boston_data.keys())\n",
    "print(boston_data.DESCR)"
   ]
  },
  {
   "cell_type": "code",
   "execution_count": 3,
   "metadata": {
    "colab": {
     "base_uri": "https://localhost:8080/"
    },
    "executionInfo": {
     "elapsed": 1780,
     "status": "ok",
     "timestamp": 1609023756226,
     "user": {
      "displayName": "Joel Liurner",
      "photoUrl": "",
      "userId": "14412342030697815321"
     },
     "user_tz": 180
    },
    "id": "Ir2VZb-HWPUz",
    "outputId": "a03a6897-8eb5-4140-d188-79338a809f35"
   },
   "outputs": [
    {
     "name": "stdout",
     "output_type": "stream",
     "text": [
      "There are 506 samples in the set\n",
      "There are 14 features in the set\n"
     ]
    }
   ],
   "source": [
    "#How many samples does it contain? How many features? What isis the data type for each variable?\n",
    "data = boston_data.data\n",
    "features = boston_data.feature_names\n",
    "target = boston_data.target\n",
    "print(\"There are\", data.shape[0], \"samples in the set\")\n",
    "#\"median value\" of owner occupied houses is another feature\n",
    "print(\"There are\", len(features) + 1, \"features in the set\")"
   ]
  },
  {
   "cell_type": "code",
   "execution_count": 4,
   "metadata": {
    "colab": {
     "base_uri": "https://localhost:8080/",
     "height": 206
    },
    "executionInfo": {
     "elapsed": 2146,
     "status": "ok",
     "timestamp": 1609023759214,
     "user": {
      "displayName": "Joel Liurner",
      "photoUrl": "",
      "userId": "14412342030697815321"
     },
     "user_tz": 180
    },
    "id": "dnUCwx1PYqRA",
    "outputId": "779f1fc7-9b5b-4e1e-92fb-54ad604fbc32"
   },
   "outputs": [
    {
     "data": {
      "text/html": [
       "<div>\n",
       "<style scoped>\n",
       "    .dataframe tbody tr th:only-of-type {\n",
       "        vertical-align: middle;\n",
       "    }\n",
       "\n",
       "    .dataframe tbody tr th {\n",
       "        vertical-align: top;\n",
       "    }\n",
       "\n",
       "    .dataframe thead th {\n",
       "        text-align: right;\n",
       "    }\n",
       "</style>\n",
       "<table border=\"1\" class=\"dataframe\">\n",
       "  <thead>\n",
       "    <tr style=\"text-align: right;\">\n",
       "      <th></th>\n",
       "      <th>CRIM</th>\n",
       "      <th>ZN</th>\n",
       "      <th>INDUS</th>\n",
       "      <th>CHAS</th>\n",
       "      <th>NOX</th>\n",
       "      <th>RM</th>\n",
       "      <th>AGE</th>\n",
       "      <th>DIS</th>\n",
       "      <th>RAD</th>\n",
       "      <th>TAX</th>\n",
       "      <th>PTRATIO</th>\n",
       "      <th>B</th>\n",
       "      <th>LSTAT</th>\n",
       "    </tr>\n",
       "  </thead>\n",
       "  <tbody>\n",
       "    <tr>\n",
       "      <th>0</th>\n",
       "      <td>0.00632</td>\n",
       "      <td>18.0</td>\n",
       "      <td>2.31</td>\n",
       "      <td>0.0</td>\n",
       "      <td>0.538</td>\n",
       "      <td>6.575</td>\n",
       "      <td>65.2</td>\n",
       "      <td>4.0900</td>\n",
       "      <td>1.0</td>\n",
       "      <td>296.0</td>\n",
       "      <td>15.3</td>\n",
       "      <td>396.90</td>\n",
       "      <td>4.98</td>\n",
       "    </tr>\n",
       "    <tr>\n",
       "      <th>1</th>\n",
       "      <td>0.02731</td>\n",
       "      <td>0.0</td>\n",
       "      <td>7.07</td>\n",
       "      <td>0.0</td>\n",
       "      <td>0.469</td>\n",
       "      <td>6.421</td>\n",
       "      <td>78.9</td>\n",
       "      <td>4.9671</td>\n",
       "      <td>2.0</td>\n",
       "      <td>242.0</td>\n",
       "      <td>17.8</td>\n",
       "      <td>396.90</td>\n",
       "      <td>9.14</td>\n",
       "    </tr>\n",
       "    <tr>\n",
       "      <th>2</th>\n",
       "      <td>0.02729</td>\n",
       "      <td>0.0</td>\n",
       "      <td>7.07</td>\n",
       "      <td>0.0</td>\n",
       "      <td>0.469</td>\n",
       "      <td>7.185</td>\n",
       "      <td>61.1</td>\n",
       "      <td>4.9671</td>\n",
       "      <td>2.0</td>\n",
       "      <td>242.0</td>\n",
       "      <td>17.8</td>\n",
       "      <td>392.83</td>\n",
       "      <td>4.03</td>\n",
       "    </tr>\n",
       "    <tr>\n",
       "      <th>3</th>\n",
       "      <td>0.03237</td>\n",
       "      <td>0.0</td>\n",
       "      <td>2.18</td>\n",
       "      <td>0.0</td>\n",
       "      <td>0.458</td>\n",
       "      <td>6.998</td>\n",
       "      <td>45.8</td>\n",
       "      <td>6.0622</td>\n",
       "      <td>3.0</td>\n",
       "      <td>222.0</td>\n",
       "      <td>18.7</td>\n",
       "      <td>394.63</td>\n",
       "      <td>2.94</td>\n",
       "    </tr>\n",
       "    <tr>\n",
       "      <th>4</th>\n",
       "      <td>0.06905</td>\n",
       "      <td>0.0</td>\n",
       "      <td>2.18</td>\n",
       "      <td>0.0</td>\n",
       "      <td>0.458</td>\n",
       "      <td>7.147</td>\n",
       "      <td>54.2</td>\n",
       "      <td>6.0622</td>\n",
       "      <td>3.0</td>\n",
       "      <td>222.0</td>\n",
       "      <td>18.7</td>\n",
       "      <td>396.90</td>\n",
       "      <td>5.33</td>\n",
       "    </tr>\n",
       "  </tbody>\n",
       "</table>\n",
       "</div>"
      ],
      "text/plain": [
       "      CRIM    ZN  INDUS  CHAS    NOX     RM   AGE     DIS  RAD    TAX  \\\n",
       "0  0.00632  18.0   2.31   0.0  0.538  6.575  65.2  4.0900  1.0  296.0   \n",
       "1  0.02731   0.0   7.07   0.0  0.469  6.421  78.9  4.9671  2.0  242.0   \n",
       "2  0.02729   0.0   7.07   0.0  0.469  7.185  61.1  4.9671  2.0  242.0   \n",
       "3  0.03237   0.0   2.18   0.0  0.458  6.998  45.8  6.0622  3.0  222.0   \n",
       "4  0.06905   0.0   2.18   0.0  0.458  7.147  54.2  6.0622  3.0  222.0   \n",
       "\n",
       "   PTRATIO       B  LSTAT  \n",
       "0     15.3  396.90   4.98  \n",
       "1     17.8  396.90   9.14  \n",
       "2     17.8  392.83   4.03  \n",
       "3     18.7  394.63   2.94  \n",
       "4     18.7  396.90   5.33  "
      ]
     },
     "execution_count": 4,
     "metadata": {},
     "output_type": "execute_result"
    }
   ],
   "source": [
    "boston_pd = pd.DataFrame(data)\n",
    "boston_pd.columns = features\n",
    "boston_pd.head()"
   ]
  },
  {
   "cell_type": "code",
   "execution_count": 5,
   "metadata": {
    "colab": {
     "base_uri": "https://localhost:8080/",
     "height": 206
    },
    "executionInfo": {
     "elapsed": 1775,
     "status": "ok",
     "timestamp": 1609023762947,
     "user": {
      "displayName": "Joel Liurner",
      "photoUrl": "",
      "userId": "14412342030697815321"
     },
     "user_tz": 180
    },
    "id": "PZIbGe2OR4Wz",
    "outputId": "7856990b-6228-46f7-feb4-025584ad9144"
   },
   "outputs": [
    {
     "data": {
      "text/html": [
       "<div>\n",
       "<style scoped>\n",
       "    .dataframe tbody tr th:only-of-type {\n",
       "        vertical-align: middle;\n",
       "    }\n",
       "\n",
       "    .dataframe tbody tr th {\n",
       "        vertical-align: top;\n",
       "    }\n",
       "\n",
       "    .dataframe thead th {\n",
       "        text-align: right;\n",
       "    }\n",
       "</style>\n",
       "<table border=\"1\" class=\"dataframe\">\n",
       "  <thead>\n",
       "    <tr style=\"text-align: right;\">\n",
       "      <th></th>\n",
       "      <th>CRIM</th>\n",
       "      <th>ZN</th>\n",
       "      <th>INDUS</th>\n",
       "      <th>CHAS</th>\n",
       "      <th>NOX</th>\n",
       "      <th>RM</th>\n",
       "      <th>AGE</th>\n",
       "      <th>DIS</th>\n",
       "      <th>RAD</th>\n",
       "      <th>TAX</th>\n",
       "      <th>PTRATIO</th>\n",
       "      <th>B</th>\n",
       "      <th>LSTAT</th>\n",
       "      <th>MEDV</th>\n",
       "    </tr>\n",
       "  </thead>\n",
       "  <tbody>\n",
       "    <tr>\n",
       "      <th>0</th>\n",
       "      <td>0.00632</td>\n",
       "      <td>18.0</td>\n",
       "      <td>2.31</td>\n",
       "      <td>0.0</td>\n",
       "      <td>0.538</td>\n",
       "      <td>6.575</td>\n",
       "      <td>65.2</td>\n",
       "      <td>4.0900</td>\n",
       "      <td>1.0</td>\n",
       "      <td>296.0</td>\n",
       "      <td>15.3</td>\n",
       "      <td>396.90</td>\n",
       "      <td>4.98</td>\n",
       "      <td>24.0</td>\n",
       "    </tr>\n",
       "    <tr>\n",
       "      <th>1</th>\n",
       "      <td>0.02731</td>\n",
       "      <td>0.0</td>\n",
       "      <td>7.07</td>\n",
       "      <td>0.0</td>\n",
       "      <td>0.469</td>\n",
       "      <td>6.421</td>\n",
       "      <td>78.9</td>\n",
       "      <td>4.9671</td>\n",
       "      <td>2.0</td>\n",
       "      <td>242.0</td>\n",
       "      <td>17.8</td>\n",
       "      <td>396.90</td>\n",
       "      <td>9.14</td>\n",
       "      <td>21.6</td>\n",
       "    </tr>\n",
       "    <tr>\n",
       "      <th>2</th>\n",
       "      <td>0.02729</td>\n",
       "      <td>0.0</td>\n",
       "      <td>7.07</td>\n",
       "      <td>0.0</td>\n",
       "      <td>0.469</td>\n",
       "      <td>7.185</td>\n",
       "      <td>61.1</td>\n",
       "      <td>4.9671</td>\n",
       "      <td>2.0</td>\n",
       "      <td>242.0</td>\n",
       "      <td>17.8</td>\n",
       "      <td>392.83</td>\n",
       "      <td>4.03</td>\n",
       "      <td>34.7</td>\n",
       "    </tr>\n",
       "    <tr>\n",
       "      <th>3</th>\n",
       "      <td>0.03237</td>\n",
       "      <td>0.0</td>\n",
       "      <td>2.18</td>\n",
       "      <td>0.0</td>\n",
       "      <td>0.458</td>\n",
       "      <td>6.998</td>\n",
       "      <td>45.8</td>\n",
       "      <td>6.0622</td>\n",
       "      <td>3.0</td>\n",
       "      <td>222.0</td>\n",
       "      <td>18.7</td>\n",
       "      <td>394.63</td>\n",
       "      <td>2.94</td>\n",
       "      <td>33.4</td>\n",
       "    </tr>\n",
       "    <tr>\n",
       "      <th>4</th>\n",
       "      <td>0.06905</td>\n",
       "      <td>0.0</td>\n",
       "      <td>2.18</td>\n",
       "      <td>0.0</td>\n",
       "      <td>0.458</td>\n",
       "      <td>7.147</td>\n",
       "      <td>54.2</td>\n",
       "      <td>6.0622</td>\n",
       "      <td>3.0</td>\n",
       "      <td>222.0</td>\n",
       "      <td>18.7</td>\n",
       "      <td>396.90</td>\n",
       "      <td>5.33</td>\n",
       "      <td>36.2</td>\n",
       "    </tr>\n",
       "  </tbody>\n",
       "</table>\n",
       "</div>"
      ],
      "text/plain": [
       "      CRIM    ZN  INDUS  CHAS    NOX     RM   AGE     DIS  RAD    TAX  \\\n",
       "0  0.00632  18.0   2.31   0.0  0.538  6.575  65.2  4.0900  1.0  296.0   \n",
       "1  0.02731   0.0   7.07   0.0  0.469  6.421  78.9  4.9671  2.0  242.0   \n",
       "2  0.02729   0.0   7.07   0.0  0.469  7.185  61.1  4.9671  2.0  242.0   \n",
       "3  0.03237   0.0   2.18   0.0  0.458  6.998  45.8  6.0622  3.0  222.0   \n",
       "4  0.06905   0.0   2.18   0.0  0.458  7.147  54.2  6.0622  3.0  222.0   \n",
       "\n",
       "   PTRATIO       B  LSTAT  MEDV  \n",
       "0     15.3  396.90   4.98  24.0  \n",
       "1     17.8  396.90   9.14  21.6  \n",
       "2     17.8  392.83   4.03  34.7  \n",
       "3     18.7  394.63   2.94  33.4  \n",
       "4     18.7  396.90   5.33  36.2  "
      ]
     },
     "execution_count": 5,
     "metadata": {},
     "output_type": "execute_result"
    }
   ],
   "source": [
    "boston_pd.insert(13, \"MEDV\", target, True)\n",
    "boston_pd.head()"
   ]
  },
  {
   "cell_type": "code",
   "execution_count": 6,
   "metadata": {
    "colab": {
     "base_uri": "https://localhost:8080/",
     "height": 368
    },
    "executionInfo": {
     "elapsed": 2163,
     "status": "ok",
     "timestamp": 1609023765804,
     "user": {
      "displayName": "Joel Liurner",
      "photoUrl": "",
      "userId": "14412342030697815321"
     },
     "user_tz": 180
    },
    "id": "6m4rwz0SZk2C",
    "outputId": "8e71296b-4867-437c-dcfe-d762809421cf"
   },
   "outputs": [
    {
     "data": {
      "text/plain": [
       "Text(0.5, 1.0, 'Nitric oxides concentration boxplot')"
      ]
     },
     "execution_count": 6,
     "metadata": {},
     "output_type": "execute_result"
    },
    {
     "data": {
      "image/png": "[encoded data removed]",
      "text/plain": [
       "<Figure size 864x360 with 2 Axes>"
      ]
     },
     "metadata": {
      "needs_background": "light"
     },
     "output_type": "display_data"
    }
   ],
   "source": [
    "#Produce a histogram and a boxplot of the nitric oxides concentration. describe the distribution.\n",
    "fig, ax = plt.subplots(1,2, figsize=(12,5))\n",
    "ax[0].hist(boston_pd['NOX'],bins=25)\n",
    "ax[0].set_xlabel(\"Concentration\")\n",
    "ax[0].set_ylabel(\"Frequency\")\n",
    "ax[0].set_title(\"Nitric oxides concentration histogram\")\n",
    "\n",
    "ax[1].boxplot(boston_pd['NOX'])\n",
    "ax[1].set_ylabel(\"Concentration\")\n",
    "ax[1].set_title(\"Nitric oxides concentration boxplot\")\n"
   ]
  },
  {
   "cell_type": "code",
   "execution_count": 7,
   "metadata": {
    "colab": {
     "base_uri": "https://localhost:8080/",
     "height": 487
    },
    "executionInfo": {
     "elapsed": 1162,
     "status": "ok",
     "timestamp": 1607392468281,
     "user": {
      "displayName": "Joel Liurner",
      "photoUrl": "",
      "userId": "14412342030697815321"
     },
     "user_tz": 180
    },
    "id": "3eWSRl-SajiI",
    "outputId": "93bd4194-6b0c-4c14-811c-cb9e0d558a02"
   },
   "outputs": [
    {
     "data": {
      "image/png": "[encoded data removed]",
      "text/plain": [
       "<Figure size 720x576 with 2 Axes>"
      ]
     },
     "metadata": {
      "needs_background": "light"
     },
     "output_type": "display_data"
    }
   ],
   "source": [
    "#Produce a correlation matrix of all the features. Are there any correlated features? Can you identify one feature with unusual behaviour?\n",
    "fig, ax = plt.subplots(1,1, figsize=(10,8))\n",
    "correlation_matrix = boston_pd.corr()\n",
    "sns.heatmap(correlation_matrix, cmap=\"inferno\")\n",
    "plt.show()\n",
    "\n",
    "#TAX (full-value property-tax rate per $10,000) and RAD (index of accessibility to radial highways) are two highly correlated features\n",
    "#DIS (weighted distances to five Boston employment centres) is mostly negatively correlated to all other features\n",
    "#CHAS (Charles River dummy variable) seems to barely correlate to any other feature\n"
   ]
  },
  {
   "cell_type": "code",
   "execution_count": 8,
   "metadata": {
    "colab": {
     "base_uri": "https://localhost:8080/"
    },
    "executionInfo": {
     "elapsed": 1151,
     "status": "ok",
     "timestamp": 1607393811112,
     "user": {
      "displayName": "Joel Liurner",
      "photoUrl": "",
      "userId": "14412342030697815321"
     },
     "user_tz": 180
    },
    "id": "rG9Tbl1Uan2H",
    "outputId": "16bbbeab-e55b-4bac-c44e-d01d1aa4f912"
   },
   "outputs": [
    {
     "name": "stdout",
     "output_type": "stream",
     "text": [
      "Max correlation 0.9102281885331822\n",
      "Min correlation -0.7692301132258261\n",
      "Max correlation is between TAX and RAD features\n",
      "Min correlation is between NOX and DIS features\n"
     ]
    },
    {
     "data": {
      "image/png": "[encoded data removed]",
      "text/plain": [
       "<Figure size 432x432 with 3 Axes>"
      ]
     },
     "metadata": {
      "needs_background": "light"
     },
     "output_type": "display_data"
    },
    {
     "data": {
      "image/png": "[encoded data removed]",
      "text/plain": [
       "<Figure size 432x432 with 3 Axes>"
      ]
     },
     "metadata": {
      "needs_background": "light"
     },
     "output_type": "display_data"
    }
   ],
   "source": [
    "#Select the 2 pairs of features with the highest correlation (positive or negative) and plot 2 scatter plots with marginal histograms (JointPlot).\n",
    "min_correlation = correlation_matrix.min().min()\n",
    "max_correlation = correlation_matrix[correlation_matrix < 1].max().max()\n",
    "print('Max correlation', max_correlation)\n",
    "print('Min correlation',min_correlation)\n",
    "correlation_matrix\n",
    "\n",
    "print('Max correlation is between TAX and RAD features')\n",
    "print('Min correlation is between NOX and DIS features')\n",
    "\n",
    "sns.jointplot(x=\"NOX\", y=\"DIS\", data=boston_pd, marginal_kws=dict(bins=15));\n",
    "sns.jointplot(x=\"TAX\", y=\"RAD\", data=boston_pd, marginal_kws=dict(bins=15));\n"
   ]
  },
  {
   "cell_type": "code",
   "execution_count": 9,
   "metadata": {
    "id": "mbTNbG_OaprB",
    "outputId": "1995986e-7f36-4d3b-ec4d-96012653d531"
   },
   "outputs": [
    {
     "data": {
      "text/plain": [
       "Text(0.5, 1.0, 'Cumulative function/histogram of age feature')"
      ]
     },
     "execution_count": 9,
     "metadata": {},
     "output_type": "execute_result"
    },
    {
     "data": {
      "image/png": "[encoded data removed]",
      "text/plain": [
       "<Figure size 432x288 with 1 Axes>"
      ]
     },
     "metadata": {
      "needs_background": "light"
     },
     "output_type": "display_data"
    }
   ],
   "source": [
    "#Produce a cumulative histogram of the age variable and add two horizontal lines on the first and third quartile (on the cumulative count)\n",
    "\n",
    "plt.hist(boston_pd['AGE'], density='True', cumulative=True, bins=20);\n",
    "plt.axhline(y=0.25, linewidth=3, color='r')\n",
    "plt.axhline(y=0.75, linewidth=3, color='r')\n",
    "plt.xlabel(\"Cumulative age\")\n",
    "plt.ylabel(\"Probability\")\n",
    "plt.title(\"Cumulative function/histogram of age feature\")"
   ]
  },
  {
   "cell_type": "code",
   "execution_count": 10,
   "metadata": {
    "id": "ukBD5AaBarUp",
    "outputId": "71ee9a09-8f1b-4b95-8811-7f866ca1df00"
   },
   "outputs": [
    {
     "data": {
      "image/png": "[encoded data removed]",
      "text/plain": [
       "<Figure size 1296x1008 with 15 Axes>"
      ]
     },
     "metadata": {
      "needs_background": "light"
     },
     "output_type": "display_data"
    }
   ],
   "source": [
    "#Identify and report 2 “interesting” trends in the data. No need to provide statistical confidence at this point. \n",
    "\n",
    "fig, axes = plt.subplots(3, 5, figsize=(18,14))\n",
    "\n",
    "for i in range(len(features)):\n",
    "    if i < 5:\n",
    "        axes[0,i].scatter(boston_pd[features[i]], boston_pd['MEDV'])\n",
    "        axes[0,i].set_xlabel(features[i])\n",
    "        axes[0,i].set_ylabel('Median value')\n",
    "    elif i < 10: \n",
    "        axes[1,i-5].scatter(boston_pd[features[i]], boston_pd['MEDV'])\n",
    "        axes[1,i-5].set_xlabel(features[i])\n",
    "        axes[1,i-5].set_ylabel('Median value')\n",
    "    else:\n",
    "        axes[2,i-10].scatter(boston_pd[features[i]], boston_pd['MEDV'])\n",
    "        axes[2,i-10].set_xlabel(features[i])\n",
    "        axes[2,i-10].set_ylabel('Median value')\n",
    "        "
   ]
  },
  {
   "cell_type": "markdown",
   "metadata": {
    "id": "q0g0C5BIR4W4"
   },
   "source": [
    "From the previous plots that display the relationship between each feature and the median value of the owner occupied houses we can identify that:\n",
    "- Based on AGE: proportion of owner-occupied units built prior to 1940 is most frequent in lower house prices.\n",
    "- Based on LSTAT: there concentration of lower status people grows as the price of housing decreases."
   ]
  },
  {
   "cell_type": "markdown",
   "metadata": {
    "id": "xeWv5H7kCviD"
   },
   "source": [
    "### Question 2 - Independence and conditional independence"
   ]
  },
  {
   "cell_type": "markdown",
   "metadata": {
    "id": "wl3PNBQbCviD"
   },
   "source": [
    "#### 2.A\n",
    "Can we define a three dimensional multivariate gaussian that is pairwise-independent but not collectivley independent?\n",
    "If your anser is yes, provide an example.\n",
    "If your answer is no, provide a proof."
   ]
  },
  {
   "cell_type": "markdown",
   "metadata": {
    "id": "4m5HccNMSsA-"
   },
   "source": [
    "#### 2.A Answer:\n",
    "\n",
    "No, if a three dimenstional multivariable gaussian is pairwise-independent it must also be collectively independent. We will provide a proof below:\n",
    "\n",
    "Let $\\ X = (X_1, X_2, X_3) $ where for all i=1,2,3 $X_i$ is a gaussian random variable. Let $ \\mu = (\\mu_1,\\mu_2,\\mu_3) $, the mean of the 3 dimentional gaussian. \n",
    "\n",
    "$ \\Sigma \\in M^{3x3}(\\mathbb{R}) $ is the covaraince matrix. For all i $\\neq j\\ Cov(X_i,X_j) = 0\\ $since there is pairwise idnependence. Thus, $ \\Sigma $ is a diagonal matrix. \n",
    "\n",
    "The density function for this random variable is\n",
    "$ P(x_1, x_2, x_3) = \\frac{1}{\\sqrt((2\\pi)^3|\\Sigma|)} \\exp(-\\frac{(X−\\mu)^T(\\Sigma^{−1})(X−\\mu)}{2}) $ \n",
    "\n",
    "$ |\\Sigma| = det(\\Sigma) = \\sigma_1^2\\sigma_2^2\\sigma_3^2 $ \n",
    "\n",
    "$X-\\mu = (x_1-\\mu_1, x_2-\\mu_2, x_3-\\mu_3) $\n",
    "\n",
    "So $ (X−\\mu)^T(\\Sigma^{−1})(X−\\mu) = \\frac{(x_1-\\mu_1)^2}{\\sigma_1^2}\\frac{(x_2-\\mu_2)^2}{\\sigma_2^2}\\frac{(x_3-\\mu_3)^2}{\\sigma_3^2} $\n",
    "\n",
    "This gives us $P(x_1, x_2, x_3) = \\frac{1}{\\sqrt((2\\pi)^3\\sigma_1^2\\sigma_2^2\\sigma_3^2)} \\exp(\\frac{-(x_1-\\mu_1)^2}{2\\sigma_1^2}\\frac{-(x_2-\\mu_2)^2}{2\\sigma_2^2}\\frac{-(x_3-\\mu_3)^2}{2\\sigma_3^2}) $\n",
    "\n",
    "According to exponent rules we can rewrite the above as: \n",
    "$P(x_1, x_2, x_3) = \\prod_{i=1}^3\\frac{1}{\\sqrt((2\\pi)\\sigma_i^2)} \\exp(\\frac{-(x_i-\\mu_i)^2}{2\\sigma_i^2}) = \\prod_{i=1}^3 P_i(x_i) $ \n",
    "\n",
    "for $ P_i(x_i) $ the probability density function of a single gaussian.\n",
    "\n",
    "So we get that $P(x_1, x_2, x_3) = P_1(x_1)P_2(x_2)P_3(x_3) $ which is exactly the definition of collectively independent $ \\blacksquare$\n",
    "\n"
   ]
  },
  {
   "cell_type": "markdown",
   "metadata": {
    "id": "8Y-I-4BMCviD"
   },
   "source": [
    "#### 2.B\n",
    "Let $\\ X, Y \\ $ and $Z$  be discrete random variables with $\\ n, m \\ $ and $k$ possible outcomes respectivley.\n",
    "\n",
    "How many parameters define the joint distribution of $\\ X, Y \\ $ and $Z$?"
   ]
  },
  {
   "cell_type": "markdown",
   "metadata": {
    "id": "191Bf_96Sx60"
   },
   "source": [
    "#### 2.B Answer\n",
    "To define a joint distribution of 3 discrete random variables with no prior knowledge of the distribution we will need $\\mathbf{nmk - 1}$ parameters. \n",
    "\n",
    "n*m*k is the total number parameters needed to define the joint distribution in the most basic way, that is to provide every 3-D vector $(x,y,z)\\ where \\ x\\in X, y\\in Y, z\\in Z $\n",
    "for nmk different vectors. \n",
    "\n",
    "But since we know that $ \\Sigma_{x\\in X, y\\in Y, z\\in Z} P(x,y,z) = 1$, meaning the n*m*k different vectors are linearly dependent vectors, we actually only need nmk-1 parameters since the last value can be decuded by calculating 1- the rest."
   ]
  },
  {
   "cell_type": "markdown",
   "metadata": {
    "id": "lk86cFRfCviD"
   },
   "source": [
    "#### 2.C\n",
    "For the same random variables from the previous section, how many parameters define the joint distribution of $\\ X, Y \\ $ and $Z$ if we now know that they are independent?"
   ]
  },
  {
   "cell_type": "markdown",
   "metadata": {
    "id": "H0-zcZvSTNtT"
   },
   "source": [
    "#### 2.C Answer\n",
    "If X,Y,Z are indepedent then P(x,y,z) = P(x)*P(y)*P(z) for all $ x\\in X, y\\in Y, z\\in Z $\n",
    "\n",
    "For a given random variabel X with n possible outcomes, we will only need n-1 parameters to determine its probability distribution. This is again due to the fact that $\\Sigma_{x\\in X}$ P(x)= 1 so we only need n-1 independent vectors to define its individual probabilities.\n",
    "\n",
    "Thus, for X,Y,Z joint distribution we will need $\\mathbf{n-1 + m-1 + k-1 = n+m+k - 3}$ parameters to define it. "
   ]
  },
  {
   "cell_type": "markdown",
   "metadata": {
    "id": "qXQlTUcCCviD"
   },
   "source": [
    "#### 2.D\n",
    "For the same random variables from the previous section, how many parameters define the joint distribution of $\\ X, Y \\ $ and $Z$ if we now know that $X$ and $Y$ are conditionaly independent given $Z$?"
   ]
  },
  {
   "cell_type": "markdown",
   "metadata": {
    "id": "dcVZHWI7TP0m"
   },
   "source": [
    "#### 2.D Answer\n",
    "If X and Y are conditionally independent given Z then $P(X\\cap Y|Z)=P(X|Z)P(Y|Z)$\n",
    "\n",
    "So for each vector (x,y,z) where  $ x\\in X, y\\in Y, z\\in Z ,\\  P(x,y,z) = P(x,y|z)P(z) \n",
    "\\stackrel{\\text{conditional independence}}{=} P(x|z)P(y|z)P(z) $ \n",
    "\n",
    "Due to linear dependence we need k-1 parameters to define the complete Z probability function. Also for each $ z\\in Z $ we need to calculate P(x|z) and P(y|z) for all $ x\\in X, y\\in Y $, thus we will need n-1 + m-1 parameters for each z. We only need n-1 parameters to calculate P(X|z) for all $ x\\in X$ given a certain z because once we have P($x_1$|z),..,P($x_{n-1}$|z) then  P($ x_n $|z) is just 1 minus all the previous. All together, this sums to k(n+m-2) + k-1 = $\\mathbf{k(n+m-1) -1}$ parameters."
   ]
  },
  {
   "cell_type": "markdown",
   "metadata": {
    "id": "GBMdcfOPCviD"
   },
   "source": [
    "#### 2.E\n",
    "For the random variables from the previous section, let $n=m=2$ and $k=2$. Give and example for a joint distribution of $\\ X, Y \\ $ and $Z$ where $X$ and $Y$ are conditionaly independent given $Z$?"
   ]
  },
  {
   "cell_type": "markdown",
   "metadata": {
    "id": "ah8qDnEyTVIB"
   },
   "source": [
    "#### 2.E Answer\n",
    "\n",
    "We have 2 coins, a regular coin where P(H) = 1/2, P(T) = 1/2 and a fake coin when P(H) = 1, P(T) = 0. \n",
    "\n",
    "We choose at random one of these 2 coins to toss twice. Let X = event of the first coin toss. Y = event of the second coin toss with the same coin. Z = event of selecting the coin to toss for X and Y.\n",
    "\n",
    "$ \\{H,T\\} \\in X \\\\ $\n",
    "$ \\{H,T\\} \\in Y \\\\ $\n",
    "$ \\{\\text{regular coin selected}, \\text{fake coin selected}\\} \\in Z $\n",
    "\n",
    "Lets take a look at the following probabilites: <br>\n",
    "\n",
    "| X/Y value | Given Z  | P(X given Z)   | P(Y given Z)\n",
    "|---:|:-------|:---|:---|\n",
    "| H | Regular  | 1/2   | 1/2| \n",
    "| T | Regular  | 1/2    | 1/2|\n",
    "| H | Fake  | 1    | 1|\n",
    "| T | Fake  | 0    |0|\n",
    "\n",
    "| Z value | P(Z)| \n",
    "|---:|:--|\n",
    "| Regular | 1/2| \n",
    "| Fake | 1/2|\n",
    "\n",
    "| X value | Y value | Given Z  |  P(X $ \\cap$ Y given Z)  |\n",
    "|---:|:-------|:------|:------------------|\n",
    "| H | H| Regular  | 1/4| \n",
    "| H | T| Regular  | 1/4|\n",
    "| T | H| Regular  | 1/4|\n",
    "| T | T| Regular  | 1/4|\n",
    "| H | H| Fake  | 1|\n",
    "| H | T| Fake  | 0|\n",
    "| T | H| Fake  | 0|\n",
    "| T | T| Fake  | 0|\n",
    "\n",
    "We will show that X and Y are conditionally independent of Z:\n",
    "\n",
    "$ P((H,H)|regular) = 1/4 == 1/2*1/2= P(H|regular)P(H|regular) \\\\\n",
    "P((H,T)|regular) = 1/4 == 1/2*1/2= P(H|regular)P(T|regular) \\\\\n",
    "P((T,H)|regular) = 1/4 == 1/2*1/2= P(T|regular)P(H|regular) \\\\\n",
    "P((T,T)|regular) = 1/4 == 1/2*1/2= P(T|regular)P(HTregular) \\\\\n",
    "P((H,H)|fake) = 1 == 1*1 = P(H|fake)P(H|fake) \\\\\n",
    "P((H,T)|fake) = 0 == 1*0 = P(H|fake)P(T|fake) \\\\\n",
    "P((T,H)|fake) = 0 == 0*1 = P(T|fake)P(H|fake) \\\\\n",
    "P((T,T)|fake) = 0 == 0*0 = P(T|fake)P(T|fake) $\n",
    "\n",
    "This satisfies the definition that P(X $ \\cap$ Y| Z) = P(X|Z)P(Y|Z).Therefore, X and Y are conditionaly independent of Z.\n",
    "\n",
    "<!-- However X and Y are not independent:\n",
    "\n",
    "P(X=H)\t=P(X=H|regular)P(regular)+P(X=H|fake)P(fake)\n",
    "=1/2x1/2+1x1/2\n",
    "=3/4.\n",
    "P(X=T) = 1/4\n",
    "\n",
    "P(Y=H) = 3/4\n",
    "P(Y=T) = 1/4\n",
    "\n",
    "$ P((H,H)) = P((H,H)|regular)P(regular) + P((H,H)|fake)P(fake)$\n",
    "= 1/2^3 + 1*1/2 = 5/8\n",
    "\n",
    "For independence we expect P(H,H) = P(X=H)P(Y=H)\n",
    "P(H,H) = 5/8 $ \\neq $ 9/16 = 3/4*3/4 = P(X=H)P(Y=H)\n",
    "\n",
    "Therefore they are not independent. -->"
   ]
  },
  {
   "cell_type": "markdown",
   "metadata": {
    "id": "Eq_XLMozCviD"
   },
   "source": [
    "### Question 3 - Gaussian mixtures – parameter estimation and generation "
   ]
  },
  {
   "cell_type": "markdown",
   "metadata": {
    "id": "OUrnAEhWCviD"
   },
   "source": [
    "Consider the data provided in GMD_2021.csv\n",
    "Assume that the data comes from a Gaussian mixture distribution (GMD) with $k=3\\ \\ $. Furthermore, assume that $\\mu_{1}=4, \\mu_{2}=9, \\sigma_{1}=\\sigma_{2}=0.5, \\sigma_3=1.5$ and $w_2=0.25$.\n",
    "\n",
    "Read the data and answer the following questions."
   ]
  },
  {
   "cell_type": "markdown",
   "metadata": {
    "id": "62IsH4S_CviD"
   },
   "source": [
    "#### 3.A\n",
    "Provide an estimate for the other parameters of the distribution in two different ways."
   ]
  },
  {
   "cell_type": "code",
   "execution_count": 11,
   "metadata": {
    "colab": {
     "base_uri": "https://localhost:8080/",
     "height": 420
    },
    "executionInfo": {
     "elapsed": 1533,
     "status": "error",
     "timestamp": 1609024025529,
     "user": {
      "displayName": "Joel Liurner",
      "photoUrl": "",
      "userId": "14412342030697815321"
     },
     "user_tz": 180
    },
    "id": "OIbGLfk3SS_2",
    "outputId": "2a21bd82-cdd3-445b-9dce-1c18e945d503"
   },
   "outputs": [],
   "source": [
    "df = pd.read_csv('GMD_2021.csv',header=None)\n",
    "df.drop(0, axis=1, inplace=True)\n",
    "df.columns = ['data']"
   ]
  },
  {
   "cell_type": "markdown",
   "metadata": {
    "id": "RAApVPbkTt8K"
   },
   "source": [
    "### Method 1: Running EM algorithm to optimize the GMM parameters to fit the dataset"
   ]
  },
  {
   "cell_type": "code",
   "execution_count": 12,
   "metadata": {
    "id": "_fiq0qrKTmWJ"
   },
   "outputs": [],
   "source": [
    "# Initialize all parameters\n",
    "mean = np.array([4,9 , 12]).astype(float)\n",
    "sigma = np.array([0.5,0.5,1.5]) \n",
    "weight = np.array([0.65,0.25,0.1]) #Starting with a random guess for w1 and w3\n",
    "size = df.shape[0]\n",
    "\n",
    "def log_likelyhood(data_point, mean, sigma, weight):\n",
    "    result = 0\n",
    "    for i in range(3):\n",
    "        result += weight[i] * stats.norm.pdf(data_point,mean[i],sigma[i])\n",
    "    result = np.log(result)    \n",
    "    return result\n",
    "\n",
    "\n",
    "def responsibilities(data_point, mean, sigma, weight):\n",
    "        #Calculates responsibilities for all distributions in single array\n",
    "        individual = np.array([(weight[0] * stats.norm.pdf(data_point,mean[0],sigma[0])),(weight[1] * stats.norm.pdf(data_point,mean[1],sigma[1])),(weight[2] * stats.norm.pdf(data_point,mean[2],sigma[2]))])\n",
    "        summed = 0\n",
    "        for i in range(3):\n",
    "            summed +=  weight[i] * stats.norm.pdf(data_point,mean[i],sigma[i])\n",
    "        respon = individual/summed\n",
    "        return respon    \n",
    "\n",
    "\n",
    "def extract_last(data_point):\n",
    "    last = data_point[-1]\n",
    "    return last\n",
    "    \n",
    "\n",
    "# Algorithm for EM but slightly modified\n",
    "# Since we are given sigmas, mean1, mean2 parameters as constant we will not change those parameters for the estimation\n",
    "# We will find the best paramers for mean3, w1, w2, w3 given the rest are already constant\n",
    "def em(df, mean, sigma, weight, iterations):\n",
    "    #Beginning log likelihood given estimated paramers\n",
    "    log_like = df.data.apply(log_likelyhood, mean=mean, sigma=sigma, weight=weight)  # first iteration\n",
    "    \n",
    "    df2 = df.copy()\n",
    "    y= np.zeros(iterations+1)\n",
    "    y[0] = log_like.sum()\n",
    "    \n",
    "    for i in range(iterations):\n",
    "        df2 = df.data.apply(responsibilities,mean =mean, sigma= sigma, weight =weight)\n",
    "        \n",
    "        #Recalculating weights\n",
    "        weight[0] = df2.sum(axis=0)[0]/size\n",
    "        weight[1] = df2.sum(axis=0)[1]/size\n",
    "        #weight[2] = df2.sum(axis=0)[2]/size\n",
    "        weight[2] = (1 - weight[0] - weight[1])\n",
    "        \n",
    "        #Recalculating mean of second gaussian\n",
    "        last = df2.apply(extract_last)    \n",
    "        mean[2] = df['data'].dot(last) / (size* weight[2])\n",
    "                \n",
    "        log = df.apply(log_likelyhood,mean=mean, weight=weight, sigma=sigma)\n",
    "        y[i+1] = log.sum()\n",
    "        \n",
    "    #Plot log likelihood over iterations to check how many iterations are needed for convergence\n",
    "    #In this case only 3 iterations until convergence\n",
    "#     ax = plt.axes()\n",
    "#     ax.plot([i for i in range(iterations+1)],[item for item in y])\n",
    "#     plt.xticks(np.arange(0, iterations+1, 1))\n",
    "#     ax.set(xlabel='Iteration', ylabel='log likelihood',title='Log likelihood over iteration')\n",
    "        \n",
    "    return mean, weight"
   ]
  },
  {
   "cell_type": "code",
   "execution_count": 13,
   "metadata": {
    "id": "fOqAXeTmT0jD"
   },
   "outputs": [
    {
     "name": "stdout",
     "output_type": "stream",
     "text": [
      "Estimation of GMM parameters for method 1 (using 5 iterations)\n",
      "Gaussian 1: Mean = 4.0, Weight = 0.125\n",
      "Gaussian 2: Mean = 9.0, Weight = 0.25\n",
      "Gaussian 3: Mean = 15.101, Weight = 0.625\n"
     ]
    }
   ],
   "source": [
    "iterations = 5\n",
    "missing_parameters = em(df, mean, sigma, weight, iterations)\n",
    "\n",
    "print(f'Estimation of GMM parameters for method 1 (using {iterations} iterations)')\n",
    "print(f'Gaussian 1: Mean = {round(missing_parameters[0][0],3)}, Weight = {round(missing_parameters[1][0],3)}')\n",
    "print(f'Gaussian 2: Mean = {round(missing_parameters[0][1],3)}, Weight = {round(missing_parameters[1][1],3)}')\n",
    "print(f'Gaussian 3: Mean = {round(missing_parameters[0][2],3)}, Weight = {round(missing_parameters[1][2],3)}')"
   ]
  },
  {
   "cell_type": "markdown",
   "metadata": {
    "id": "-xZzj55iT6tR"
   },
   "source": [
    "### Method 2: Analytically solving for the missing parameters based on GMM equations"
   ]
  },
  {
   "cell_type": "code",
   "execution_count": 14,
   "metadata": {
    "id": "iwT9kdJfT7g9"
   },
   "outputs": [],
   "source": [
    "mean = np.mean(df)\n",
    "var = pd.DataFrame.var(df)"
   ]
  },
  {
   "cell_type": "markdown",
   "metadata": {
    "id": "6T3t9f7iT975"
   },
   "source": [
    "We have 3 variables ($\\mu_3, w_1, w_3 $) to solve for and 3 independent equations below: \n",
    "\n",
    "$\\mu = w_1*\\mu_1 + w_2*\\mu_2 + w_3*\\mu_3  \\\\\n",
    "V = w_1*v_1 + w_2*v_2 + w_3*v_3 + w_1(\\mu_1 - \\mu)^2 + w_2(\\mu_2 - \\mu)^2 + w_3(\\mu_3 - \\mu)^2  \\\\\n",
    "1 = w_1 + w_2 + w_3\n",
    "$\n",
    "\n",
    "So we can solve these system of non-linear equations with the fsolve function. It returns the roots of a set of non-linear equations set to 0, given a starting estimate. The parameters we are looking to calculate satisy equations A,B,C below meaning they are presicely the roots of the equations. "
   ]
  },
  {
   "cell_type": "code",
   "execution_count": 15,
   "metadata": {
    "id": "b-0ADRA5UDdy"
   },
   "outputs": [
    {
     "name": "stdout",
     "output_type": "stream",
     "text": [
      "Estimation of GMM parameters using method 2 (Analytical Solution):\n",
      "Mean3: 15.089\n",
      "Weight1: 0.123\n",
      "Weight3: 0.627\n"
     ]
    }
   ],
   "source": [
    "def solver(unknowns):\n",
    "    \n",
    "    m = np.mean(df) # mean\n",
    "    v = pd.DataFrame.var(df)\n",
    "    m1, m2 = 4,9\n",
    "    s1, s2, s3 = 0.5, 0.5, 1.5\n",
    "    v1,v2,v3 = s1**2, s2**2, s3**2  #the given sigmas squared\n",
    "    w2 = .25\n",
    "        \n",
    "    m3 = unknowns[0]\n",
    "    w1 = unknowns[1]\n",
    "    w3 = unknowns[2]\n",
    "    \n",
    "    A = w1*m1 + w2*m2 + w3*m3 - m\n",
    "    B = w1*v1 + w2*v2 + w3*v3 + w1*(m1-m)**2 + w2*(m2-m)**2 + w3*(m3-m)**2 - v\n",
    "    C = w1 + w2 + w3 -1\n",
    "    \n",
    "    return np.array([A,B,C], dtype = 'float64')\n",
    "\n",
    "uks = np.array([15, 0.60, 0.15], dtype = 'float64' )  # guess the starting parameters we are solving for\n",
    "result = optimize.fsolve(solver, uks)\n",
    "print('Estimation of GMM parameters using method 2 (Analytical Solution):')\n",
    "print(f'Mean3: {round(result[0],3)}\\nWeight1: {round(result[1],3)}\\nWeight3: {round(result[2],3)}')"
   ]
  },
  {
   "cell_type": "markdown",
   "metadata": {
    "id": "nQb-UPQqUJVV"
   },
   "source": [
    "#### Method 3: Running EM algorithm to optimize the GMM parameters to fit the dataset"
   ]
  },
  {
   "cell_type": "code",
   "execution_count": 16,
   "metadata": {
    "id": "krN9RVbXUJ7K"
   },
   "outputs": [
    {
     "name": "stdout",
     "output_type": "stream",
     "text": [
      "Estimation of GMM parameters for method 3:\n",
      "Gaussian 1: Mean = 4.084, Weight = 0.125\n",
      "Gaussian 2: Mean = 8.997, Weight = 0.25\n",
      "Gaussian 3: Mean = 15.102, Weight = 0.625\n"
     ]
    }
   ],
   "source": [
    "means_init = np.array([[4], [9], [12]])\n",
    "precision= np.array([[1/(0.5**2)],[1/(0.5**2)],[1/(1.5**2)]]) \n",
    "weights_init = np.array([0.65,0.25,0.1]) #Starting with a random guess for w1 and w3\n",
    "\n",
    "# we will start with a random estimate for mean and use the model to select a better one\n",
    "# the fit method of the GaussianMixture Estimates model parameters using the EM algorithm.\n",
    "\n",
    "gmm = mixture.GaussianMixture(n_components=3,means_init=means_init, weights_init = weights_init, precisions_init=precision, covariance_type='diag').fit(df)\n",
    "\n",
    "print('Estimation of GMM parameters for method 3:')\n",
    "print(f'Gaussian 1: Mean = {round(gmm.means_[0][0],3)}, Weight = {round(gmm.weights_[0],3)}')\n",
    "print(f'Gaussian 2: Mean = {round(gmm.means_[1][0],3)}, Weight = {round(gmm.weights_[1],3)}')\n",
    "print(f'Gaussian 3: Mean = {round(gmm.means_[2][0],3)}, Weight = {round(gmm.weights_[2],3)}')"
   ]
  },
  {
   "cell_type": "markdown",
   "metadata": {
    "id": "_18lnFL-UWZc"
   },
   "source": [
    "#### 3.B\n",
    "Plot a graph of the pdf of the distribution you inferred. Select adequate limits for the axes for this plot and explain your decision."
   ]
  },
  {
   "cell_type": "code",
   "execution_count": 17,
   "metadata": {
    "id": "QJNUvdDFUaZa"
   },
   "outputs": [
    {
     "name": "stderr",
     "output_type": "stream",
     "text": [
      "No handles with labels found to put in legend.\n"
     ]
    },
    {
     "data": {
      "image/png": "[encoded data removed]",
      "text/plain": [
       "<Figure size 1440x864 with 1 Axes>"
      ]
     },
     "metadata": {
      "needs_background": "light"
     },
     "output_type": "display_data"
    }
   ],
   "source": [
    "fig, axes = plt.subplots(figsize=(20,12))\n",
    "plot = sns.histplot(df,bins=120)\n",
    "sigma_1 = 0.5\n",
    "sigma_3 = 1.5\n",
    "mu1 = 4\n",
    "mu3 = result[0]\n",
    "\n",
    "plot.set(xlim=(mu1 -3*sigma_1, mu3 + 3*sigma_3))\n",
    "# set limits so that on left side it gets to mu1 - 3*sd1 of left most gaussian and on right its mu3 + 3*sigma3 of right most gaussian\n",
    "plot.legend().remove()\n",
    "\n",
    "plt.title('Distribution of GMM', size = 20)\n",
    "plt.show()\n",
    "\n",
    "# Explanation of limits:\n",
    "# Since we are plotting a dataset that fits to 3 different gaussian, we will set the limits \n",
    "# based on the parameters of the left and right most gaussian respectively. \n",
    "# 3 standard deviations beyond the mean from the left/right \n",
    "# most gaussian will allow us to include 99.7 (3 standard deviations within the mean) + (100-99.7)/2 (inner tail) of each gaussian\n",
    "# in the plot. This allows us to fit 99.85% of the left and right gaussians and 100% of the middle gaussian in the plot.\n"
   ]
  },
  {
   "cell_type": "markdown",
   "metadata": {
    "id": "0I1EDfyWCviE"
   },
   "source": [
    "#### 3.C\n",
    "Describe two ways for generating data for a GMD random variable with:\n",
    "* centers at  $\\mu_1+3, \\mu_2+5, mu_3+7$\n",
    "* $\\sigma_1=\\sigma_2=\\sigma_3=1$\n",
    "* $w_1=w_2=w_3=0.33$"
   ]
  },
  {
   "cell_type": "markdown",
   "metadata": {
    "id": "z_pN1ZzBUffV"
   },
   "source": [
    "#### Answer\n",
    "\n",
    "1. First approach: Since the weights are all equal we can create 3 gaussian distributions independently of each other and then take all the points together with an even amount of points from each. <br><br>\n",
    "    \n",
    "2. Second approach: To perform inverse mapping from a gmm. For each individual guassian run inverse mapping for a third of the points then combine all the inverse mapping samples to get a total of 1000."
   ]
  },
  {
   "cell_type": "markdown",
   "metadata": {
    "id": "TEimXDNGCviE"
   },
   "source": [
    "#### 3.D\n",
    "Use one of the above approaches to generate 1000 points and plot a histogram of the result (decide on bins, axes etc)\n"
   ]
  },
  {
   "cell_type": "code",
   "execution_count": 18,
   "metadata": {
    "id": "xO74OrQnUj_i"
   },
   "outputs": [],
   "source": [
    "uks = np.array([15, 0.60, 0.15], dtype = 'float64' )  # guess the starting parameters we are solving for analytically\n",
    "result = optimize.fsolve(solver, uks)\n",
    "mean1 = 4\n",
    "mean2 = 9\n",
    "mean3 = result[0]\n",
    "\n",
    "# First approach is a forward approach combining all the guassians directly:\n",
    "mu1 = mean1 + 3\n",
    "mu2 = mean2 + 5\n",
    "mu3 = mean3 + 7 \n",
    "s1 , s2, s3 = 1,1,1\n",
    "w1, w2, w3 = 0.33, 0.33, 0.33\n",
    "size = 1000"
   ]
  },
  {
   "cell_type": "code",
   "execution_count": 19,
   "metadata": {
    "id": "YCOjtlVTUm8O"
   },
   "outputs": [
    {
     "data": {
      "text/plain": [
       "Text(0.5, 1.0, 'Method 1: Direct Sampling of 3 combined Gaussian')"
      ]
     },
     "execution_count": 19,
     "metadata": {},
     "output_type": "execute_result"
    },
    {
     "data": {
      "image/png": "[encoded data removed]",
      "text/plain": [
       "<Figure size 1440x864 with 1 Axes>"
      ]
     },
     "metadata": {
      "needs_background": "light"
     },
     "output_type": "display_data"
    }
   ],
   "source": [
    "fig, axes = plt.subplots(1, figsize=(20,12))\n",
    "gauss1 = stats.norm.rvs(loc=mu1, scale=s1, size=size//3)\n",
    "gauss2 = stats.norm.rvs(loc=mu2, scale=s2, size=size//3)\n",
    "gauss3 = stats.norm.rvs(loc=mu3, scale=s3, size=size//3 + 1) # added 1 to get to all 1000 points\n",
    "data = np.append(np.append(gauss1, gauss2), gauss3)\n",
    "sns.histplot(data, bins=80)\n",
    "axes.set_title(\"Method 1: Direct Sampling of 3 combined Gaussian\", size = 15)"
   ]
  },
  {
   "cell_type": "markdown",
   "metadata": {
    "id": "gL7HDXieCviE"
   },
   "source": [
    "#### 3.E - BONUS\n",
    "Use the other one to generate 1000 more points and draw two comparative histograms.\n"
   ]
  },
  {
   "cell_type": "code",
   "execution_count": 20,
   "metadata": {
    "id": "x8cSZlrMUpih"
   },
   "outputs": [],
   "source": [
    "# Inverse sampling for each Gaussian in the mixture and then combining results\n",
    "size = 1000\n",
    "\n",
    "# Inverse sampling of Gaussian 1\n",
    "q=np.random.rand(size//3)\n",
    "result=stats.norm.ppf(q,loc=mu1,scale=s1)  # Inverse of CDF\n",
    "\n",
    "# Inverse sampling of Gaussian 2\n",
    "t=np.random.rand(size//3)\n",
    "result = np.append(result, stats.norm.ppf(t,loc=mu2,scale=s2) )\n",
    "\n",
    "# Inverse sampling on Guassian 3\n",
    "s=np.random.rand(size//3 + 1)\n",
    "result = np.append(result, stats.norm.ppf(s,loc=mu3,scale=s3) )"
   ]
  },
  {
   "cell_type": "code",
   "execution_count": 21,
   "metadata": {
    "id": "Q4S3mGfCUsRn"
   },
   "outputs": [
    {
     "data": {
      "text/plain": [
       "Text(0.5, 1.0, 'Inverse Sampling from 3 Gaussians')"
      ]
     },
     "execution_count": 21,
     "metadata": {},
     "output_type": "execute_result"
    },
    {
     "data": {
      "image/png": "[encoded data removed]",
      "text/plain": [
       "<Figure size 1440x864 with 2 Axes>"
      ]
     },
     "metadata": {
      "needs_background": "light"
     },
     "output_type": "display_data"
    }
   ],
   "source": [
    "fig, axes = plt.subplots(1,2, figsize=(20,12))\n",
    "sns.histplot(data, ax=axes[0], bins=60)\n",
    "axes[0].set_title(\"Direct Sampling from 3 Gaussians\", size = 15)\n",
    "sns.histplot(result, ax=axes[1], bins=60)\n",
    "axes[1].set_title(\"Inverse Sampling from 3 Gaussians\", size = 15)"
   ]
  },
  {
   "cell_type": "markdown",
   "metadata": {
    "id": "ihmUx_VkCviE"
   },
   "source": [
    "### Question 4 - Normally distributed salaries"
   ]
  },
  {
   "cell_type": "markdown",
   "metadata": {
    "id": "Q05jYBc4CviE"
   },
   "source": [
    "The annual salaries of employees in a large Randomistan company are approximateley normally distributed with a mean of 70,000 RCU and a standard deviation of 30,000 RCU."
   ]
  },
  {
   "cell_type": "code",
   "execution_count": 22,
   "metadata": {
    "id": "FiSCDweDR4XF"
   },
   "outputs": [],
   "source": [
    "mu = 70000\n",
    "sigma = 30000\n",
    "salaries_dist = stats.norm(loc=mu, scale=sigma)"
   ]
  },
  {
   "cell_type": "markdown",
   "metadata": {
    "id": "uS-_d4qLCviE"
   },
   "source": [
    "#### 4.A\n",
    "What percent of people earn less than 50,000 RCU?"
   ]
  },
  {
   "cell_type": "code",
   "execution_count": 23,
   "metadata": {
    "id": "kYmNy5Z6R4XG",
    "outputId": "4ee4c9b1-d445-4a97-a49c-75f352583558"
   },
   "outputs": [
    {
     "name": "stdout",
     "output_type": "stream",
     "text": [
      "25.2 % of people earn less than 50000 RCU\n"
     ]
    }
   ],
   "source": [
    "print( round(salaries_dist.cdf(50000)*100,1),'% of people earn less than 50000 RCU')"
   ]
  },
  {
   "cell_type": "markdown",
   "metadata": {
    "id": "jBVTeoWUCviF"
   },
   "source": [
    "#### 4.B\n",
    "What percent of people earn between 45,000 RCU and 65,000 RCU?"
   ]
  },
  {
   "cell_type": "code",
   "execution_count": 24,
   "metadata": {
    "id": "6yWg3v8UR4XH",
    "outputId": "7693564c-4bf5-452b-fed6-5cf846fe44e2"
   },
   "outputs": [
    {
     "name": "stdout",
     "output_type": "stream",
     "text": [
      "23.0 % of people earn between 45000 and 65000 RCU\n"
     ]
    }
   ],
   "source": [
    "cdf_45 = salaries_dist.cdf(45000)\n",
    "cdf_65 = salaries_dist.cdf(65000)\n",
    "print( (round(cdf_65-cdf_45,2)*100), '% of people earn between 45000 and 65000 RCU' )"
   ]
  },
  {
   "cell_type": "markdown",
   "metadata": {
    "id": "0GMe5tRfCviF"
   },
   "source": [
    "#### 4.C\n",
    "What percent of people earn more than 70,000 RCU?"
   ]
  },
  {
   "cell_type": "code",
   "execution_count": 25,
   "metadata": {
    "id": "1dx9sM3FR4XI",
    "outputId": "b53fff68-a260-4c08-9422-b3f204fe49a7"
   },
   "outputs": [
    {
     "name": "stdout",
     "output_type": "stream",
     "text": [
      "50.0 % of people earn more than 70000 RCU\n"
     ]
    }
   ],
   "source": [
    "cdf_70 = salaries_dist.cdf(70000)\n",
    "print( (round(1-cdf_70,2)*100), '% of people earn more than 70000 RCU' )"
   ]
  },
  {
   "cell_type": "markdown",
   "metadata": {
    "id": "1Q4DEJzkCviF"
   },
   "source": [
    "#### 4.D\n",
    "The company has 1000 employees. How many employees in the company do you expect to earn more than 140,000 RCU?"
   ]
  },
  {
   "cell_type": "code",
   "execution_count": 26,
   "metadata": {
    "id": "JfwJ9BJoR4XJ",
    "outputId": "3b25f647-e444-47c9-a3aa-26bbef364eaa"
   },
   "outputs": [
    {
     "name": "stdout",
     "output_type": "stream",
     "text": [
      "0.98 % of employees are expected to earn more than 140000 RCU\n",
      "9.8 employees are expected to earn more than 140000 RCU\n"
     ]
    }
   ],
   "source": [
    "employees = 1000\n",
    "cdf_140 = salaries_dist.cdf(140000)\n",
    "more_140 = 1-cdf_140\n",
    "print( round(more_140*100,2),'% of employees are expected to earn more than 140000 RCU')\n",
    "print( round(more_140*employees,1), 'employees are expected to earn more than 140000 RCU')"
   ]
  },
  {
   "cell_type": "markdown",
   "metadata": {
    "id": "X0Cc7WU4CviF"
   },
   "source": [
    "#### 4.E\n",
    "<span style=\"color:red\"> This question was slightly updated due to a subtlety in the phrasing </span>\n",
    "\n",
    "A survey is performed on employees of the company. **20 groups of 50 employees each are sampled (with replacenets).**\n",
    "What is the probability that more than 10 groups have an average salary between 50,000 RCU and 70,000 RCU?"
   ]
  },
  {
   "cell_type": "markdown",
   "metadata": {
    "id": "qa-3RWj9R4XJ"
   },
   "source": [
    "We are sampling randomly from the Randomistan company salaries distribution. Each group has 50 samples and we consider $X_n$ (a random variable) to be the average value of the salaries in the group.\n",
    "\n",
    "It is important to note that the mean of the salary distribution is non zero and we consider each $X_n$ to be independent from each other. Then, we can apply the central limit theorem and approximate $\\bar{X_n}$ as a Normal distribution with mean $\\mu$ and variance $\\frac{\\sigma^2}{n}$ where:\n",
    "- $\\mu$ and $\\sigma$ characterize the salaries distribution\n",
    "- n is the number of groups\n",
    "\n",
    "Then consider a Binomial process running 20 experiments desiring that more than 10 succeed and using the probability approximated by the central limit theorem."
   ]
  },
  {
   "cell_type": "code",
   "execution_count": 27,
   "metadata": {
    "id": "pBaJGExyR4XK",
    "outputId": "afe88527-ee31-4896-8ff1-d3a71bad8371"
   },
   "outputs": [
    {
     "data": {
      "text/plain": [
       "0.40685355851395844"
      ]
     },
     "execution_count": 27,
     "metadata": {},
     "output_type": "execute_result"
    }
   ],
   "source": [
    "salary_groups = 20\n",
    "desired_groups = 10\n",
    "mu_salary_group = mu\n",
    "sigma_salary_group = sqrt((sigma**2)/(salary_groups))\n",
    "avg_salary_group_dist = stats.norm(loc=70000, scale=sigma_salary_group)\n",
    "\n",
    "avg_salary_probability = avg_salary_group_dist.cdf(70000) - avg_salary_group_dist.cdf(50000)\n",
    "\n",
    "#prob of 10 or less groups\n",
    "group_prob_avg_salary = stats.binom.cdf(desired_groups, salary_groups, avg_salary_probability)\n",
    "\n",
    "#prob of more than 10 groups\n",
    "1-group_prob_avg_salary"
   ]
  },
  {
   "cell_type": "markdown",
   "metadata": {
    "id": "QGy6fRVcCviF"
   },
   "source": [
    "### Question 5 - Coupon collector"
   ]
  },
  {
   "cell_type": "markdown",
   "metadata": {
    "id": "OvPCxBkfCviF"
   },
   "source": [
    "Let $T_{N}$ denote the waiting time for full single coupon collection with N different equiprobable coupon types"
   ]
  },
  {
   "cell_type": "markdown",
   "metadata": {
    "id": "TEPbXyTJR4XK"
   },
   "source": [
    "$X_i$ is the time (or number of coupons) to collect coupon $i$ ($i-1$ coupons have already been collected).\n",
    "$p_i$ is the probability of collecting coupon i. \n",
    "\n",
    "$ p_i = \\frac{N-(i-1)}{N} $\n",
    "\n",
    "$X_i$ is geometrically distributed, then $E(X_i) = \\frac{1}{p_i}$ and $Var(X_i) = \\frac{1-p_i}{p_i^2}$\n"
   ]
  },
  {
   "cell_type": "markdown",
   "metadata": {
    "id": "joffncm0CviF"
   },
   "source": [
    "#### 5.A\n",
    "Write code to compute the exact value of $E(T_{N})$"
   ]
  },
  {
   "cell_type": "markdown",
   "metadata": {
    "id": "aM4cMWfeR4XL"
   },
   "source": [
    "$E(T) = E(X_1+X_2+...+X_N) = $ \n",
    "\n",
    "By linearity of expectations:\n",
    "\n",
    "$E(T) = E(X_1) + E(X_2) + ... + E(X_N) =$\n",
    "\n",
    "Describing coupong collector as geometric distribution:\n",
    "\n",
    "$E(T) = \\frac{1}{p_1} + \\frac{1}{p_2} + ... + \\frac{1}{p_N} = $\n",
    "\n",
    "$ = N * (\\frac{1}{n} + \\frac{1}{n-1} + \\frac{1}{n-1} + ... + \\frac{1}{1} )=$\n",
    "\n",
    "$ = \\sum_{i=1}^{N} N·\\frac{1}{i} = N·Harm_N$"
   ]
  },
  {
   "cell_type": "code",
   "execution_count": 2,
   "metadata": {
    "id": "1FjOKSGCR4XL"
   },
   "outputs": [],
   "source": [
    "def expected_Tn(N):\n",
    "    HN = 1\n",
    "    for i in range(2,N+1):\n",
    "        HN = HN + 1/i\n",
    "    return N*HN"
   ]
  },
  {
   "cell_type": "markdown",
   "metadata": {
    "id": "MvKHHyD4CviF"
   },
   "source": [
    "#### 5.B\n",
    "Write code to compute the exact value of $V(T_{N})$"
   ]
  },
  {
   "cell_type": "markdown",
   "metadata": {
    "id": "tCq8XpoVR4XN"
   },
   "source": [
    "$ Var(T_N) = Var(X_1+X_2+...+X_N) $\n",
    "\n",
    "As each collection is independent from the other:\n",
    "\n",
    "$ Var(T_N) = Var(X_1) + Var(X_2) + ... + Var(X_N) =$\n",
    "\n",
    "$ = \\frac{1-p_1}{p_1^2} + \\frac{1-p_2}{p_2^2} + ... + \\frac{1-p_N}{p_N^2} = \\sum_{i=1}^{N} \\frac{1-p_i}{p_i^2}$"
   ]
  },
  {
   "cell_type": "code",
   "execution_count": 3,
   "metadata": {
    "id": "7oBAP7mNR4XN"
   },
   "outputs": [],
   "source": [
    "def variance_Tn(N):\n",
    "    var = 0\n",
    "    for i in range(1,N+1):\n",
    "        pi = (N-(i-1))/N\n",
    "        var = var + ( (1-pi)/(pi**2) )\n",
    "    return var"
   ]
  },
  {
   "cell_type": "markdown",
   "metadata": {
    "id": "Gg0uSC03CviF"
   },
   "source": [
    "#### 5.C\n",
    "Write code to exactly compute $P(T_{20}>40)$"
   ]
  },
  {
   "cell_type": "markdown",
   "metadata": {
    "id": "oDYZJRmtR4XO"
   },
   "source": [
    "$P(T_{20} > 40) = 1 - P(T_{20} <= 40) = 1 - [P(T_{20}=20) + P(T_{20}=21) + P(T_{20}=22) + ... + P(T_{20}=40)]$\n",
    "\n",
    "We can compute each of the probabilities using convolution:\n",
    "\n",
    "$ P(T_{20} = k) = \\sum_{i=1}^{k-1}  [P(G_N = i)·P(T_{N-1} =  k-i)] $"
   ]
  },
  {
   "cell_type": "code",
   "execution_count": 4,
   "metadata": {
    "id": "wgnfGlc8R4XO",
    "outputId": "6b6d92d2-caca-402b-c619-d93b49060968"
   },
   "outputs": [
    {
     "name": "stdout",
     "output_type": "stream",
     "text": [
      "0.964\n"
     ]
    }
   ],
   "source": [
    "#This will be a recursive function as the stated convolution requires a previous state convolution\n",
    "def tn_eq_k(total_coupons, collections_list, collected_coupons):\n",
    "    \n",
    "    #first trial\n",
    "    if collected_coupons == 0:\n",
    "        return stats.geom.pmf(collections_list, (total_coupons - collected_coupons )/total_coupons )\n",
    "    \n",
    "    #convolve recursively\n",
    "    res = np.convolve( stats.geom.pmf(collections_list, (total_coupons - collected_coupons)/total_coupons )\n",
    "                      , tn_eq_k(total_coupons, collections_list, collected_coupons-1) \n",
    "                      , 'full')\n",
    "    return res\n",
    "    \n",
    "total_coupons = 20\n",
    "collection_tries = 40\n",
    "collections_list = np.arange(collection_tries) +1\n",
    "#Start with final step of only one coupon left to collect and recursively calculate the initial conditions for each coupon to collect.\n",
    "result = tn_eq_k(total_coupons, collections_list, total_coupons-1)\n",
    "\n",
    "#Add the calculated value for all possible amount of successes (collectingin k=20, k=21, ..., k=40, k in [20,40]). \n",
    "#For k<20 trials, it is not possible to collect 20 coupons.\n",
    "prob_20_to_40 = result[0:collection_tries+1-total_coupons].sum()\n",
    "\n",
    "#P(T_20 > 40) = 1 - P(T_20 <= 40)\n",
    "print( round(1-prob_20_to_40, 3) ) "
   ]
  },
  {
   "cell_type": "markdown",
   "metadata": {
    "id": "SHV1U0TKCviF"
   },
   "source": [
    "#### 5.D\n",
    "Use Chebicheff to provide a bound for the probability from C and compare the results"
   ]
  },
  {
   "cell_type": "markdown",
   "metadata": {
    "id": "mm-pspcHR4XP"
   },
   "source": [
    "Chebyshev theorem is as follows: $ P( |X - \\mu|> k\\sigma ) < \\frac{1}{k^2} $.\n",
    "\n",
    "We can estimate a bound using this formula and the written functions. p is the probability of having to collect at least 40 coupons."
   ]
  },
  {
   "cell_type": "code",
   "execution_count": 5,
   "metadata": {
    "id": "GkQ8QbzaR4XP",
    "outputId": "b306abff-b6e5-4944-f8c0-7dddc226578a"
   },
   "outputs": [
    {
     "name": "stdout",
     "output_type": "stream",
     "text": [
      "Chebyshev probability bound: 0.445\n"
     ]
    }
   ],
   "source": [
    "mu = expected_Tn(20)\n",
    "sigma = sqrt(variance_Tn(20)) \n",
    "X = collection_tries\n",
    "k = abs(X-mu)/sigma\n",
    "\n",
    "#Need P T_20 > 40 and not < 40\n",
    "p = 1 - 1/(k**2)\n",
    "print( 'Chebyshev probability bound:', round(p,3) )\n"
   ]
  },
  {
   "cell_type": "code",
   "execution_count": 7,
   "metadata": {},
   "outputs": [
    {
     "data": {
      "text/plain": [
       "71.95479314287364"
      ]
     },
     "execution_count": 7,
     "metadata": {},
     "output_type": "execute_result"
    }
   ],
   "source": [
    "mu"
   ]
  },
  {
   "cell_type": "markdown",
   "metadata": {
    "id": "Vi1-BrVWR4XQ"
   },
   "source": [
    "Chebyshev inequality provides a bound that is less tight that the one calculated in 5.C. There is a great difference in its values, even in this case, the bound calculated with Chebyshev is not relevantly significant and will only give us an idea on the result we are looking for. \n",
    "When calculating directly, we found that it is 0.964 probable that we need more than 40 trials to collect the 40 coupons. With Chebyshev, we only approximate to this by knowing that there is ***at least*** 0.445 probability of needing more than 40 collection trials."
   ]
  },
  {
   "cell_type": "code",
   "execution_count": 32,
   "metadata": {},
   "outputs": [
    {
     "data": {
      "text/plain": [
       "(71.95479314287364, 40)"
      ]
     },
     "execution_count": 32,
     "metadata": {},
     "output_type": "execute_result"
    }
   ],
   "source": [
    "mu, X"
   ]
  },
  {
   "cell_type": "code",
   "execution_count": null,
   "metadata": {},
   "outputs": [],
   "source": [
    "sum = 0\n",
    "for i in range(0,16):\n",
    "    "
   ]
  }
 ],
 "metadata": {
  "colab": {
   "collapsed_sections": [],
   "name": "SnDA_2021_HW2_joel.ipynb",
   "provenance": []
  },
  "kernelspec": {
   "display_name": "Python 3",
   "language": "python",
   "name": "python3"
  },
  "language_info": {
   "codemirror_mode": {
    "name": "ipython",
    "version": 3
   },
   "file_extension": ".py",
   "mimetype": "text/x-python",
   "name": "python",
   "nbconvert_exporter": "python",
   "pygments_lexer": "ipython3",
   "version": "3.8.0"
  }
 },
 "nbformat": 4,
 "nbformat_minor": 1
}
