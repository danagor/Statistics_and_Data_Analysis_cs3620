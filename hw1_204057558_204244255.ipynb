{
 "cells": [
  {
   "cell_type": "markdown",
   "metadata": {},
   "source": [
    "### IDs:\n",
    "Insert yours IDs to the cell below"
   ]
  },
  {
   "cell_type": "markdown",
   "metadata": {},
   "source": [
    "ID #1: 204057558\n",
    "\n",
    "ID #2: 204244255\n"
   ]
  },
  {
   "cell_type": "markdown",
   "metadata": {},
   "source": [
    "## Read the following instructions carefully:\n",
    "\n",
    "1. This jupyter notebook contains all the step by step instructions needed for this exercise.\n",
    "1. You are free to add cells.\n",
    "1. Write your functions and your answers in this jupyter notebook only.\n",
    "1. Answers to theoretical questions should be written in **markdown cells (with $\\LaTeX$ support)**.\n",
    "1. Submit this jupyter notebook only using your ID as a filename. Not to use ZIP or RAR. For example, your Moodle submission file name should look like this (two id numbers): `123456789_987654321.ipynb`."
   ]
  },
  {
   "cell_type": "code",
   "execution_count": 1,
   "metadata": {},
   "outputs": [],
   "source": [
    "import math\n",
    "from scipy.stats import nbinom\n",
    "import matplotlib.pyplot as plt\n",
    "import seaborn as sns\n",
    "import numpy as np\n"
   ]
  },
  {
   "cell_type": "markdown",
   "metadata": {},
   "source": [
    "### Question 1 - Defective products"
   ]
  },
  {
   "cell_type": "markdown",
   "metadata": {},
   "source": [
    "In a manufacturing pipeline products are 3% defective. We are interested in examining a defective product to see what goes wrong on the belt. We need to ask the facility manager to send us a set of independent samples for examination."
   ]
  },
  {
   "cell_type": "markdown",
   "metadata": {},
   "source": [
    "#### 1.A\n",
    "\n",
    "How many independent samples should we ask for in order to have a 85% probability of having at least one defective product in the batch sent? You should write a function."
   ]
  },
  {
   "cell_type": "code",
   "execution_count": 2,
   "metadata": {},
   "outputs": [
    {
     "name": "stdout",
     "output_type": "stream",
     "text": [
      "0.97\n",
      "0.9409\n",
      "0.912673\n",
      "0.8852928099999999\n",
      "0.8587340256999999\n",
      "0.8329720049289999\n",
      "0.8079828447811299\n",
      "0.783743359437696\n",
      "0.7602310586545651\n",
      "0.7374241268949281\n",
      "0.7153014030880802\n",
      "0.6938423609954378\n",
      "0.6730270901655747\n",
      "0.6528362774606075\n",
      "0.6332511891367892\n",
      "0.6142536534626856\n",
      "0.595826043858805\n",
      "0.5779512625430409\n",
      "0.5606127246667496\n",
      "0.5437943429267471\n",
      "0.5274805126389447\n",
      "0.5116560972597763\n",
      "0.496306414341983\n",
      "0.48141722191172354\n",
      "0.4669747052543718\n",
      "0.4529654640967406\n",
      "0.4393765001738384\n",
      "0.42619520516862325\n",
      "0.4134093490135645\n",
      "0.4010070685431576\n",
      "0.38897685648686287\n",
      "0.377307550792257\n",
      "0.36598832426848926\n",
      "0.35500867454043455\n",
      "0.3443584143042215\n",
      "0.3340276618750948\n",
      "0.32400683201884195\n",
      "0.3142866270582767\n",
      "0.3048580282465284\n",
      "0.2957122873991326\n",
      "0.2868409187771586\n",
      "0.27823569121384384\n",
      "0.2698886204774285\n",
      "0.26179196186310566\n",
      "0.2539382030072125\n",
      "0.2463200569169961\n",
      "0.23893045520948622\n",
      "0.23176254155320164\n",
      "0.2248096653066056\n",
      "0.21806537534740741\n",
      "0.2115234140869852\n",
      "0.20517771166437562\n",
      "0.19902238031444436\n",
      "0.19305170890501103\n",
      "0.1872601576378607\n",
      "0.18164235290872485\n",
      "0.1761930823214631\n",
      "0.17090728985181922\n",
      "0.16578007115626464\n",
      "0.1608066690215767\n",
      "0.1559824689509294\n",
      "0.1513029948824015\n",
      "0.14676390503592945\n",
      "63 independent samples should be taken in order to have an 85% probability of having at least one defective product in the batch\n"
     ]
    }
   ],
   "source": [
    "def one_sample_or_more(probability=0.85, defective_precent=0.03):\n",
    "\n",
    "    my_probability = 1\n",
    "    non_defective = 1 - defective_precent\n",
    "    non_defective_probability = 1 - probability\n",
    "    counter = 0\n",
    "    \n",
    "    while my_probability > non_defective_probability:\n",
    "        \n",
    "        counter += 1\n",
    "        my_probability *= non_defective\n",
    "        print(my_probability)\n",
    "    \n",
    "    return counter\n",
    "        \n",
    "        \n",
    "result = one_sample_or_more(probability=0.85, defective_precent=0.03)\n",
    "print(str(result) + ' independent samples should be taken in order to have an 85% probability of having at least one defective product in the batch')"
   ]
  },
  {
   "cell_type": "code",
   "execution_count": 4,
   "metadata": {},
   "outputs": [],
   "source": [
    "## for debuging the result! set debug = True\n",
    "debug = True"
   ]
  },
  {
   "cell_type": "code",
   "execution_count": 5,
   "metadata": {},
   "outputs": [
    {
     "name": "stdout",
     "output_type": "stream",
     "text": [
      "0.8532360949640688\n",
      "Result provides probability over 85%: True\n"
     ]
    }
   ],
   "source": [
    "## check the result\n",
    "def binom(n, k):\n",
    "    return math.factorial(n) // math.factorial(k) // math.factorial(n - k)\n",
    "\n",
    "def checking_qa1_result(number_of_product, defective_precent=0.03):\n",
    "\n",
    "    total_precent = 0\n",
    "    undefective_precent = 1 - defective_precent\n",
    "\n",
    "    for i in range(1, number_of_product + 1):\n",
    "\n",
    "        temp_precent = binom(number_of_product, i) * pow(defective_precent, i) * pow(undefective_precent, number_of_product - i)\n",
    "        total_precent += temp_precent\n",
    "        \n",
    "    return total_precent\n",
    "    \n",
    "if debug:\n",
    "    \n",
    "    print(checking_qa1_result(result))\n",
    "    print('Result provides probability over 85%: ' + str(checking_qa1_result(result) >= 0.85) )"
   ]
  },
  {
   "cell_type": "markdown",
   "metadata": {},
   "source": [
    "#### 1.B\n",
    "Answer this part again with the following changes: products are 4% defective and we want a 95% probability of at least one defective product in the batch."
   ]
  },
  {
   "cell_type": "code",
   "execution_count": 6,
   "metadata": {},
   "outputs": [
    {
     "name": "stdout",
     "output_type": "stream",
     "text": [
      "74 independent samples should be taken in order to have an 95% probability of having at least one defective product in the batch, with 4% defective\n"
     ]
    }
   ],
   "source": [
    "result = one_sample_or_more(probability=0.95, defective_precent=0.04)\n",
    "print(str(result) + ' independent samples should be taken in order to have an 95% probability of having at least one defective product in the batch, with 4% defective')\n"
   ]
  },
  {
   "cell_type": "code",
   "execution_count": 7,
   "metadata": {},
   "outputs": [
    {
     "name": "stdout",
     "output_type": "stream",
     "text": [
      "0.9512391525501629\n",
      "Result provides probability over 95%: True\n"
     ]
    }
   ],
   "source": [
    "if debug:\n",
    "    \n",
    "    print(checking_qa1_result(result, defective_precent=0.04))\n",
    "    print('Result provides probability over 95%: ' + str(checking_qa1_result(result, defective_precent=0.04) >= 0.95) )"
   ]
  },
  {
   "cell_type": "markdown",
   "metadata": {},
   "source": [
    "#### 1.C \n",
    "\n",
    "Consider the following cases and calculate how many independent samples are required: \n",
    "\n",
    "1. Products are 10% defective and we want a 90% probability of at least 5 defective products in the batch.\n",
    "1. Products are 30% defective and we want a 90% probability of at least 15 defective products in the batch.\n",
    "\n",
    "Explain the difference between the two results. You should use mathematical reasoning based on the properties of distributions you saw in class and visualizations in your answer."
   ]
  },
  {
   "cell_type": "code",
   "execution_count": 8,
   "metadata": {},
   "outputs": [
    {
     "name": "stdout",
     "output_type": "stream",
     "text": [
      "Independent samples for C1.1:  78\n",
      "Independent samples for C1.2:  64\n"
     ]
    }
   ],
   "source": [
    "def negative_binomial_disterbution(n, k, p):\n",
    "    q = 1 - p\n",
    "    p = binom(n, k) * pow(p, k) * pow(q, n - k)\n",
    "    return p\n",
    "    \n",
    "\n",
    "def get_number_of_product_in_batch(defective_precent, number_of_defective_needed, needed_probability):\n",
    "    \n",
    "    probability = 0\n",
    "    number_of_product = number_of_defective_needed\n",
    "    \n",
    "    while probability < needed_probability:\n",
    "        \n",
    "        number_of_product += 1\n",
    "        probability = 0\n",
    "        \n",
    "        for i in range(number_of_defective_needed, number_of_product + 1):\n",
    "        \n",
    "            probability += negative_binomial_disterbution(number_of_product, i, defective_precent)\n",
    "        \n",
    "    \n",
    "    return number_of_product\n",
    "\n",
    "\n",
    "c1_1 = get_number_of_product_in_batch(0.1, 5, 0.9)\n",
    "c1_2 = get_number_of_product_in_batch(0.3, 15, 0.9)\n",
    "\n",
    "print(\"Independent samples for C1.1: \", c1_1)\n",
    "print(\"Independent samples for C1.2: \", c1_2)"
   ]
  },
  {
   "cell_type": "markdown",
   "metadata": {},
   "source": [
    "## Explanation for 1C:\n",
    "As you see in the graph below, the curves of the two distributions are different. The 90% propability we are looking for represents 90% of the area under each graphs (starting from left to right). This  falls on a different x value per graph. While the second scenario's CDF returns positive value earlier on in the x-axis, the first scenario will reach 90% coverage earlier along the x-axis, the x-axis being the number of samples. This translates to the first scenario needing less samples compared to the second scenario to reach the desired outcome. If we would search for a 50% probability, instead of 90%, the second scenario would require less samples per batch than the first. This is also due to the shape of the distributions; the second scenario having reached its 50% area coverage before the first scenario reaches 50% coverage.The first scenario distribution is denser around the middle and has less of a tail on either ends, this means that most of its non-zero PDF values occur in the middle ranges for number of samples ber batch. "
   ]
  },
  {
   "cell_type": "code",
   "execution_count": 9,
   "metadata": {},
   "outputs": [
    {
     "data": {
      "image/png": "[encoded data removed]",
      "text/plain": [
       "<Figure size 3456x1440 with 1 Axes>"
      ]
     },
     "metadata": {
      "needs_background": "light"
     },
     "output_type": "display_data"
    }
   ],
   "source": [
    "n_1 = 5\n",
    "p_1 = 0.1\n",
    "sampels_1 = nbinom(n_1, p_1, loc=n_1)\n",
    "\n",
    "n_2 =15\n",
    "p_2 = 0.3\n",
    "sampels_2 = nbinom(n_2, p_2, loc=n_2)\n",
    "\n",
    "i = range(0,int(np.round(2*n_2/p_2,0)))\n",
    "\n",
    "p_X_i = sampels_1.pmf([xx for xx in i])\n",
    "p_Y_i = sampels_2.pmf([xx for xx in i])\n",
    "\n",
    "plt.figure(figsize=(48,20))\n",
    "plt.subplot(1,2,1)\n",
    "plt.plot(i,p_Y_i,'v',label=\"$Y\\sim NB({{{0}}},{{{1}}})$\".format(n_2,p_2))\n",
    "plt.plot(i,p_X_i,'x',label=\"$X\\sim NB({{{0}}},{{{1}}})$\".format(n_1,p_1))\n",
    "plt.xlabel('Number of Samples in Batch',fontsize=16)\n",
    "plt.ylabel('Probability of obtainining X defective samples in batch \\n X = 5 for Case 1 and X = 15 for Case 2',fontsize=16)\n",
    "plt.legend(('Case 1: Products are 10% defective, require at least 5 defective samples', 'Case 2: Products are 30%defective, require at least 15 defective samples'),fontsize=14)\n",
    "plt.title(\"Negative Binomial Comparison\", fontsize=20)\n",
    "\n",
    "plt.show()"
   ]
  },
  {
   "cell_type": "markdown",
   "metadata": {},
   "source": [
    "### Question 2 - Rent distributions in Randomistan"
   ]
  },
  {
   "cell_type": "markdown",
   "metadata": {},
   "source": [
    "The state of Randomistan conducted a survey to study the distribution of rent paid in two neighboring towns, Stochastic Heights and Random Grove, to be denoted SH and RG.<br> \n",
    "\n",
    "Here are some findings of the survey:\n",
    "* The population of SH and RG is 16,000 and 22,000 respectively. <br>\n",
    "* The mean rent in SH and RG is 6300RCU and 4200RCU respectively.\n",
    "* The median rent is 4600RCU in both towns.\n",
    "* The IQR of the rent is smaller in SH than in RG.\n",
    "\n",
    "All data generated in this question needs to be consistent with these findings."
   ]
  },
  {
   "cell_type": "markdown",
   "metadata": {},
   "source": [
    "#### 2.A\n",
    "Draw histograms that describe 2 different scenarii of possible distributions of rent in the two towns.\u000b",
    "Your histograms should:<br>\n",
    "* Use bins of 100RCU each.\n",
    "* Have at least 10 non zero bins."
   ]
  },
  {
   "cell_type": "code",
   "execution_count": 14,
   "metadata": {},
   "outputs": [],
   "source": [
    "sh_population = 16000\n",
    "rg_population = 22000\n",
    "\n",
    "sh_mean_rate = 6300\n",
    "rg_mean_rate = 4200\n",
    "\n",
    "median_rent = 4600\n",
    "\n",
    "\n",
    "def IQR(arr):\n",
    "    q3, q1 = np.percentile(arr, [75, 25])\n",
    "    return q3 - q1\n",
    "\n",
    "\n",
    "def check_if_disterbution_is_fine(sh, rg):\n",
    "    if len(sh) != sh_population:\n",
    "        return False\n",
    "\n",
    "    if len(rg) != rg_population:\n",
    "        return False\n",
    "\n",
    "    if sum(sh) / len(sh) != sh_mean_rate:\n",
    "        return False\n",
    "\n",
    "    if sum(rg) / len(rg) != rg_mean_rate:\n",
    "        return False\n",
    "\n",
    "    sh = sorted(sh)\n",
    "    rg = sorted(rg)\n",
    "\n",
    "    if sh[sh_population // 2] != median_rent or rg[rg_population // 2] != median_rent:\n",
    "        return False\n",
    "\n",
    "    if IQR(sh) < IQR(rg):\n",
    "        return True\n",
    "\n",
    "    return False\n",
    "\n",
    "\n",
    "def get_element_to_insert_for_average(arr, average):\n",
    "    value = sum(arr) / (len(arr) + 2)\n",
    "    value = average - value\n",
    "    value *= 3\n",
    "    return value\n",
    "\n",
    "\n",
    "# print(get_element_to_insert_for_average(arr_sh, 6300))\n",
    "# print(get_element_to_insert_for_average(arr_rg, 4200))\n",
    "\n",
    "\n",
    "def get_disterbution(seed, median, mean, size, jumps=15):\n",
    "    arr_to_return = [median, median]\n",
    "\n",
    "    if mean > median:\n",
    "\n",
    "        arr_to_return.append(median - 100)\n",
    "        arr_to_return.append(median - 100)\n",
    "\n",
    "    elif mean < median:\n",
    "\n",
    "        arr_to_return.append(median + 100)\n",
    "        arr_to_return.append(median + 100)\n",
    "\n",
    "    value_to_add = get_element_to_insert_for_average(arr_to_return, mean)\n",
    "\n",
    "    arr_to_return.append(value_to_add)\n",
    "    arr_to_return.append(value_to_add)\n",
    "\n",
    "    radius_val = 3000#abs(mean - median)\n",
    "\n",
    "    counter = 1\n",
    "    while len(arr_to_return) < size:\n",
    "        temp_counter = (counter // jumps) + 1\n",
    "        arr_to_return.append(mean + radius_val + (temp_counter * seed))\n",
    "        arr_to_return.append(mean - radius_val - (temp_counter * seed))\n",
    "        counter += 1\n",
    "\n",
    "    return arr_to_return\n",
    "\n",
    "\n",
    "def get_scenario(seed, jumps=15):\n",
    "    arr_sh = get_disterbution(seed, median=median_rent, mean=sh_mean_rate, size=sh_population, jumps=jumps)\n",
    "    arr_rg = get_disterbution(seed, median=median_rent, mean=rg_mean_rate, size=rg_population, jumps=jumps)\n",
    "\n",
    "    if check_if_disterbution_is_fine(arr_sh, arr_rg):\n",
    "        return arr_sh, arr_rg\n",
    "\n",
    "    print(\"there is a problem\")\n",
    "    return -1, -1\n"
   ]
  },
  {
   "cell_type": "code",
   "execution_count": 15,
   "metadata": {
    "scrolled": false
   },
   "outputs": [
    {
     "name": "stderr",
     "output_type": "stream",
     "text": [
      "<ipython-input-15-a3b6563fdd91>:22: UserWarning: Matplotlib is currently using module://ipykernel.pylab.backend_inline, which is a non-GUI backend, so cannot show the figure.\n",
      "  fig.show()\n"
     ]
    },
    {
     "data": {
      "image/png": "[encoded data removed]",
      "text/plain": [
       "<Figure size 1080x1080 with 4 Axes>"
      ]
     },
     "metadata": {
      "needs_background": "light"
     },
     "output_type": "display_data"
    }
   ],
   "source": [
    "\n",
    "arr_sh_1, arr_rg_1 = get_scenario(seed=1)\n",
    "arr_sh_2, arr_rg_2 = get_scenario(seed=2, jumps=20)\n",
    "\n",
    "fig, axes = plt.subplots(2,2, )\n",
    "axes[0,0].hist(arr_sh_1, bins = int((max(arr_sh_1) - min(arr_sh_1)) // 100))\n",
    "axes[0,1].hist(arr_rg_1, bins = int((max(arr_rg_1) - min(arr_rg_1)) // 100))\n",
    "axes[1,0].hist(arr_sh_2, bins = int((max(arr_sh_2) - min(arr_sh_2)) // 100))\n",
    "axes[1,1].hist(arr_rg_2, bins = int((max(arr_rg_2) - min(arr_rg_2)) // 100))\n",
    "\n",
    "axes[0,0].set_title(\"sh senario 1\")\n",
    "axes[0,1].set_title(\"rg senario 1\")\n",
    "axes[1,0].set_title(\"sh senario 2\")\n",
    "axes[1,1].set_title(\"rg senario 2\")\n",
    "\n",
    "for i in range(2):\n",
    "    for j in range(2):\n",
    "        axes[i,j].set_ylabel('count(value) in bin', fontweight ='bold') \n",
    "        axes[i,j].set_xlabel('value ', fontweight ='bold') \n",
    "\n",
    "fig.set_figheight(15)\n",
    "fig.set_figwidth(15)\n",
    "fig.show()"
   ]
  },
  {
   "cell_type": "markdown",
   "metadata": {},
   "source": [
    "#### 2.B\n",
    "Draw a histogram of a third scenario with the same properties. <br>\n",
    "In addition, in this scenario the rent in SH should have a higher variance than the rent in RG."
   ]
  },
  {
   "cell_type": "code",
   "execution_count": 16,
   "metadata": {},
   "outputs": [
    {
     "name": "stdout",
     "output_type": "stream",
     "text": [
      "sh is equal 13969516.00325 > rg which is equal 11379384.359272728\n"
     ]
    },
    {
     "name": "stderr",
     "output_type": "stream",
     "text": [
      "<ipython-input-16-b59a1e113b7d>:42: UserWarning: Matplotlib is currently using module://ipykernel.pylab.backend_inline, which is a non-GUI backend, so cannot show the figure.\n",
      "  fig.show()\n"
     ]
    },
    {
     "data": {
      "image/png": "[encoded data removed]",
      "text/plain": [
       "<Figure size 1080x1080 with 2 Axes>"
      ]
     },
     "metadata": {
      "needs_background": "light"
     },
     "output_type": "display_data"
    }
   ],
   "source": [
    "\n",
    "\n",
    "def variance(arr):\n",
    "    \n",
    "    mean = sum(arr) / len(arr)\n",
    "    \n",
    "    variance = 0\n",
    "    \n",
    "    for i in range(len(arr)):\n",
    "        \n",
    "        variance += pow(mean - arr[i], 2)\n",
    "    \n",
    "    variance /= len(arr)\n",
    "    \n",
    "    return variance\n",
    "\n",
    "\n",
    "arr_sh, arr_rg = get_scenario(seed=1)\n",
    "\n",
    "for i in range(1,2000, 2):\n",
    "    arr_sh[-i] = 6300 - 6200\n",
    "    arr_sh[-i-1] = 6300 + 6200\n",
    "\n",
    "if check_if_disterbution_is_fine(arr_sh, arr_rg):\n",
    "\n",
    "    vr_s = variance(arr_sh)\n",
    "    vr_r = variance(arr_rg)\n",
    "\n",
    "    print(\"sh is equal\", vr_s, \">\", \"rg which is equal\", vr_r)\n",
    "\n",
    "    fig, axes = plt.subplots(2, 1, )\n",
    "    axes[0].hist(arr_sh, bins=100)\n",
    "    axes[1].hist(arr_rg, bins=100)\n",
    "\n",
    "    axes[0].set_title(\"sh senario 1\")\n",
    "    axes[1].set_title(\"rg senario 1\")\n",
    "\n",
    "    for i in range(2):\n",
    "        axes[i].set_ylabel('count(value) in bin', fontweight='bold')\n",
    "        axes[i].set_xlabel('value ', fontweight='bold')\n",
    "\n",
    "    fig.set_figheight(15)\n",
    "    fig.set_figwidth(15)\n",
    "    fig.show()\n"
   ]
  },
  {
   "cell_type": "markdown",
   "metadata": {},
   "source": [
    "The survey also examined the per household income (PHI) in these two places.<br>\n",
    "\n",
    "It found that:<br>\n",
    "* The mean of PHI in SH is 12500 and in RG is 8500.\n",
    "* The median is 12000 in SH and 8000 in RG.\n",
    "* The covariance of the rent and the PHI was observed to be as in the formula below with $\\alpha=97\\%$ and $\\alpha=89\\%$ in SH and in RG respectively.<br><br>\n",
    "$$Cov(rent, PHI) = \\alpha * \\sqrt{Var(rent)} * \\sqrt{Var(PHI)}$$\n",
    "\n",
    "#### 2.C\n",
    "Produce rent and PHI data for the two cities, that is consistent with these findings. The covariances in your data can deviate by up to 1% from the numbers given $\\alpha$."
   ]
  },
  {
   "cell_type": "code",
   "execution_count": 17,
   "metadata": {},
   "outputs": [
    {
     "name": "stdout",
     "output_type": "stream",
     "text": [
      "sh cov data:\n",
      "22443260.3166916\n",
      "22345725.32383274\n",
      "1.0043648166011794\n",
      "\n",
      "\n",
      "rg cov data:\n",
      "713147008.0139087\n",
      "720008087.1840539\n",
      "0.9904708304083378\n"
     ]
    }
   ],
   "source": [
    "arr_sh_rent = arr_sh_1\n",
    "arr_rg_rent = arr_rg_1\n",
    "\n",
    "def check_minimal_disterbution(dist, median, average):\n",
    " \n",
    "    if sum(dist) / len(dist) != average:\n",
    "        return False\n",
    "\n",
    "    dist = sorted(dist)\n",
    "\n",
    "    if dist[len(dist) // 2] != median :\n",
    "        return False\n",
    "\n",
    "    return True\n",
    "\n",
    "    \n",
    "arr_sh_phi = get_disterbution(14, median=12000, mean=12500, size=sh_population)\n",
    "arr_rg_phi = get_disterbution(37, median=8000, mean=8500, size=rg_population, jumps=1)\n",
    "\n",
    "if not check_minimal_disterbution(arr_sh_phi, 12000, 12500) and not check_minimal_disterbution(arr_rg_phi, 8000, 8500):\n",
    "    print(\"Problem with Disterbution.\")\n",
    "\n",
    "arr_sh_phi = sorted(arr_sh_phi)\n",
    "arr_rg_phi = sorted(arr_rg_phi)\n",
    "arr_sh_rent = sorted(arr_sh_rent)\n",
    "arr_rg_rent = sorted(arr_rg_rent)\n",
    "\n",
    "def special_cov(rent, phi, alpa):\n",
    "\n",
    "    return alpa * np.sqrt(np.var(rent)) * np.sqrt(np.var(phi))\n",
    "\n",
    "def get_coveriance(arr1, arr2):\n",
    "\n",
    "    return np.cov(arr1, arr2)[0,1]\n",
    "\n",
    "special_cov_sh = special_cov(arr_sh_rent, arr_sh_phi, 0.97)\n",
    "real_cov_sh = get_coveriance(arr_sh_rent, arr_sh_phi)\n",
    "\n",
    "print(\"sh cov data:\")\n",
    "print(special_cov_sh)\n",
    "print(real_cov_sh)\n",
    "print(special_cov_sh / real_cov_sh)\n",
    "\n",
    "special_cov_rg = special_cov(arr_rg_rent, arr_rg_phi, 0.89)\n",
    "real_cov_rg = get_coveriance(arr_rg_rent, arr_rg_phi)\n",
    "\n",
    "print(\"\\n\\nrg cov data:\")\n",
    "print(special_cov_rg)\n",
    "print(real_cov_rg)\n",
    "print(special_cov_rg / real_cov_rg)\n",
    "\n"
   ]
  },
  {
   "cell_type": "markdown",
   "metadata": {},
   "source": [
    "#### 2.D\n",
    "Produce two heatmaps that describe these two bivariate joint distributions. Make sure you carefully consider the selected binning resolution."
   ]
  },
  {
   "cell_type": "code",
   "execution_count": 18,
   "metadata": {},
   "outputs": [
    {
     "data": {
      "image/png": "[encoded data removed]",
      "text/plain": [
       "<Figure size 1080x720 with 2 Axes>"
      ]
     },
     "metadata": {
      "needs_background": "light"
     },
     "output_type": "display_data"
    }
   ],
   "source": [
    "\n",
    "def get_hitmap(arr1, arr2, bins=10):\n",
    "    \n",
    "    return np.histogram2d(arr1, arr2, bins=bins)[0]\n",
    "    \n",
    "hit_map = get_hitmap(np.array(arr_rg_phi), np.array(arr_rg_rent))\n",
    "    \n",
    "ax = sns.heatmap(hit_map)\n",
    "ax.set_title(\"RG Heat map\", fontsize=30)\n",
    "ax.set_ylabel('rg phi', fontweight ='bold', fontsize=20) \n",
    "ax.set_xlabel('rg rent', fontweight ='bold', fontsize=20) \n",
    "ax.figure.set_size_inches(15, 10)\n",
    "        "
   ]
  },
  {
   "cell_type": "code",
   "execution_count": 19,
   "metadata": {},
   "outputs": [
    {
     "data": {
      "image/png": "[encoded data removed]",
      "text/plain": [
       "<Figure size 1080x720 with 2 Axes>"
      ]
     },
     "metadata": {
      "needs_background": "light"
     },
     "output_type": "display_data"
    }
   ],
   "source": [
    "\n",
    "    \n",
    "hit_map = get_hitmap(np.array(arr_sh_phi), np.array(arr_sh_rent))\n",
    "    \n",
    "ax = sns.heatmap(hit_map)\n",
    "ax.set_title(\"SH Heat map\", fontsize=30)\n",
    "ax.set_ylabel('sh phi', fontweight ='bold', fontsize=20) \n",
    "ax.set_xlabel('sh rent', fontweight ='bold', fontsize=20) \n",
    "ax.figure.set_size_inches(15, 10)\n",
    "        "
   ]
  },
  {
   "cell_type": "markdown",
   "metadata": {},
   "source": [
    "### Question 3 - Covariance and independence"
   ]
  },
  {
   "cell_type": "markdown",
   "metadata": {},
   "source": [
    "What is the variance of the sum X +Y + Z of three random variables in terms of the variances of X, Y and Z and the covariances between each pair of random variables? What happens if X,Y,Z are pairwise independent? If X,Y,Z are pairwise independent, are they necessarily collectively independent? Prove your answer."
   ]
  },
  {
   "cell_type": "markdown",
   "metadata": {},
   "source": [
    "Calculating variance of the sum of 3 random variables- X,Y,Z: \\\n",
    "$ Set : Q = X+Y+Z \\\\\n",
    "Then :  Q^2 = X^2 + Y^2 + Z^2 + 2XY + 2YZ + 2XZ \\\\ $\n",
    "$ V(X+Y+Z) = V(Q) \\stackrel{\\text{def}}{=} E(Q^2) - E(Q)^2 = E(X^2 + Y^2 + Z^2 + 2XY + 2YZ + 2XZ) - E(X+Y+Z)^2 \\\\  \\stackrel{\\text{lineariy of expectation}}{=}  E(X^2) + E(Y^2) + E(Z^2) +2E(XY) + 2E(YZ) + 2E(XZ) - (E(X) + E(Y) + E(Z))^2 \\\\  = E(X^2) + E(Y^2) + E(Z^2) +2E(XY) + 2E(YZ) + 2E(XZ) - (E(X)^2 + E(Y)^2 + E(Z)^2 + 2E(X)E(Y) + 2E(Y)E(Z) + 2E(X)E(Z))  \\\\ \\stackrel{\\text{rearanging values}}{=} \n",
    "(E(X^2)- E(X)^2) + (E(Y^2)-E(Y)^2) + (E(Z^2)-E(Z)^2) + 2((E(XY)-E(X)E(Y)) + ((E(YZ)-E(Y)E(Z)) + (E(XZ)-E(X)E(Z)) \\\\ = \\textbf{V(X) + V(Y) + V(Z) + 2(Cov(X,Y)+Cov(Y,Z)+Cov(X,Z))} $"
   ]
  },
  {
   "cell_type": "markdown",
   "metadata": {},
   "source": [
    "If any 2 random variables are independent then their covariance is 0. So if X,Y,Z are pairwise independent (each 2 pairs are independent) then: \n",
    "$ V(X+Y+Z) = V(X) + V(Y) + V(Z) $"
   ]
  },
  {
   "cell_type": "markdown",
   "metadata": {},
   "source": [
    "$ \\text{While: Independence} \\Rightarrow \\text{Pairwise independence} \\\\\n",
    "\\text{Pairwise independence} \\nRightarrow \\text{Independence} \\\\\n",
    "\\text{Counter example:} \n",
    "$"
   ]
  },
  {
   "cell_type": "markdown",
   "metadata": {},
   "source": [
    "$ X: \\{0,1\\} \\rightarrow [0,1],  X(0) = 1/2 , X(1) = 1/2 \\\\\n",
    "Y : \\{0,1\\} \\rightarrow [0,1], Y(0) = 1/2 , Y(1) = 1/2 \\\\\n",
    "$\n",
    "X and Y are independent coin tosses, Z is the probability that exactly one of the two coin tosses will land on heads. \n",
    "$ Z(0) = 1/2 \\space (if X=0, Y=0 or X=1,Y=1) \\space Z(1) = 1/2 \\space(if X=1, Y=0 or X=0, Y=1) \\\\\n",
    "X,Y,Z : \\{(0,0,0), (0,1,1), (1,0,1), (1,1,0))\\} \\rightarrow [0,1], P(0,0,0) = 1/4, P(0,1,1) = 1/4, P(1,0,1) = 1/4, P(1,1,0) = 1/4 $"
   ]
  },
  {
   "cell_type": "markdown",
   "metadata": {},
   "source": [
    "Its clear that X,Y are pairwise independent, being independent coin tosses. X and Z are pairwise independent because:\n",
    "$ \\\\ P(X)*P(Z) = P(X \\cap Z) \\\\ \n",
    "\\text{Same applies for Y and Z} \\\\\n",
    "\\text{However: } P(X=0)P(Y=0)P(Z=0) = 1/2*1/2*1/2 \\ne 1/4 = P(0,0,0)$"
   ]
  },
  {
   "cell_type": "markdown",
   "metadata": {},
   "source": [
    "### Question 4 - Convolutions"
   ]
  },
  {
   "cell_type": "markdown",
   "metadata": {},
   "source": [
    "#### 4.A\n",
    "Write a program, `Q = NFoldConv(P , n)`, that takes as input:\n",
    "* A distribution, P, of a random variable that takes finitely many integer values\n",
    "* An integer n\n",
    "\n",
    "and produces the distribution, Q, of the sum of n independent repeats of random variables, each of which has the distribution P."
   ]
  },
  {
   "cell_type": "code",
   "execution_count": 1,
   "metadata": {},
   "outputs": [],
   "source": [
    "def NFoldConv(P, n):\n",
    "    dist_Q = {}\n",
    "    size_P_sigma = len(P[0]) # size of sample space\n",
    "   \n",
    "    if n == 0: # sum of 0 random variables shoudl return empty distribution\n",
    "        return\n",
    "    \n",
    "    if n == 1: # returns the distribution of P\n",
    "        dist_Q = dict(zip(P[0], P[1]))\n",
    "        return dist_Q\n",
    "    \n",
    "    # In order to compute the convolution of distributions when n > 2, need to use recursion to perform the convolution on 2 entities at a time\n",
    "    # For example to compute n = 4: Q = (((P1*P2)*P3)*P4), first need to convolve P1*P2 = Z then Z*P3= X then X*P4 = Q.      \n",
    "    \n",
    "    prev_distribution = NFoldConv(P, n-1)  \n",
    "    \n",
    "    for value_in_P_sigma, prob_of_value in prev_distribution.items():\n",
    "        \n",
    "        for i in range(size_P_sigma): # summation of values in sigma space\n",
    "            if (P[0][i] + value_in_P_sigma) in dist_Q:  # if the value after summation already exists, needs to add up both probabilities\n",
    "                dist_Q[(P[0][i] + value_in_P_sigma)] += P[1][i]*prob_of_value\n",
    "            else:\n",
    "                dist_Q[(P[0][i] + value_in_P_sigma)] = P[1][i]*prob_of_value\n",
    "                \n",
    "                \n",
    "    return dist_Q    \n",
    "            "
   ]
  },
  {
   "cell_type": "markdown",
   "metadata": {},
   "source": [
    "#### 4.B\n",
    "Compute the distribution of the sum of the results of rolling a fair octahedron 17 times.\n",
    "\n",
    "<img src=\"https://upload.wikimedia.org/wikipedia/commons/2/27/Octahedron.jpg\" width=\"200\">\n"
   ]
  },
  {
   "cell_type": "markdown",
   "metadata": {},
   "source": [
    "$ \\sigma= \\{1,2,3,4,5,6,7,8\\} $\n",
    "\n",
    "$ P: \\sigma \\rightarrow [0,1] $\n",
    "\n",
    "$ Q: \\sigma^{17}  \\rightarrow [0,1]  \\\\\n",
    "\\text{ Q = Sum of the result of rolling octahedron 17 times } $"
   ]
  },
  {
   "cell_type": "code",
   "execution_count": 16,
   "metadata": {},
   "outputs": [
    {
     "data": {
      "text/plain": [
       "{17: 4.440892098500626e-16,\n",
       " 18: 7.549516567451064e-15,\n",
       " 19: 6.794564910705958e-14,\n",
       " 20: 4.303224443447107e-13,\n",
       " 21: 2.1516122217235534e-12,\n",
       " 22: 9.036771331238924e-12,\n",
       " 23: 3.313482821454272e-11,\n",
       " 24: 1.088715784192118e-10,\n",
       " 25: 3.2660718574106795e-10,\n",
       " 26: 9.07134811711785e-10,\n",
       " 27: 2.3577291230481023e-09,\n",
       " 28: 5.782673007104222e-09,\n",
       " 29: 1.3473395732432891e-08,\n",
       " 30: 2.998400727705075e-08,\n",
       " 31: 6.401734875538523e-08,\n",
       " 32: 1.3161584089260714e-07,\n",
       " 33: 2.613809253482202e-07,\n",
       " 34: 5.027422242953605e-07,\n",
       " 35: 9.38663699212583e-07,\n",
       " 36: 1.7045993589981379e-06,\n",
       " 37: 3.015970226893927e-06,\n",
       " 38: 5.206881849684208e-06,\n",
       " 39: 8.783168114145923e-06,\n",
       " 40: 1.449303744882613e-05,\n",
       " 41: 2.3418493098503745e-05,\n",
       " 42: 3.7090165106334894e-05,\n",
       " 43: 5.762708941681183e-05,\n",
       " 44: 8.790117605705916e-05,\n",
       " 45: 0.00013172354057466862,\n",
       " 46: 0.0001940465160554794,\n",
       " 47: 0.000281171099826949,\n",
       " 48: 0.00040094502474907756,\n",
       " 49: 0.0005629319236253316,\n",
       " 50: 0.0007785276598544222,\n",
       " 51: 0.0010609964316725673,\n",
       " 52: 0.0014253974040241424,\n",
       " 53: 0.0018883730784566843,\n",
       " 54: 0.002467774003582779,\n",
       " 55: 0.0031821012120212266,\n",
       " 56: 0.004049758126849046,\n",
       " 57: 0.005088117430610772,\n",
       " 58: 0.006312424925249083,\n",
       " 59: 0.007734580675745839,\n",
       " 60: 0.009361856250110101,\n",
       " 61: 0.011195623843158309,\n",
       " 62: 0.013230186524219256,\n",
       " 63: 0.015451806826463077,\n",
       " 64: 0.017838031700777357,\n",
       " 65: 0.02035740428456334,\n",
       " 66: 0.022969636481963374,\n",
       " 67: 0.025626291369178045,\n",
       " 68: 0.028271992206021945,\n",
       " 69: 0.030846137527832607,\n",
       " 70: 0.033285062338742843,\n",
       " 71: 0.03552454726152865,\n",
       " 72: 0.03750254422783916,\n",
       " 73: 0.03916196231819313,\n",
       " 74: 0.0404533435000225,\n",
       " 75: 0.041337257154996365,\n",
       " 76: 0.04178625514552792,\n",
       " 77: 0.04178625514552792,\n",
       " 78: 0.041337257154996365,\n",
       " 79: 0.0404533435000225,\n",
       " 80: 0.03916196231819313,\n",
       " 81: 0.03750254422783916,\n",
       " 82: 0.03552454726152865,\n",
       " 83: 0.033285062338742843,\n",
       " 84: 0.030846137527832607,\n",
       " 85: 0.028271992206021945,\n",
       " 86: 0.025626291369178045,\n",
       " 87: 0.022969636481963374,\n",
       " 88: 0.02035740428456334,\n",
       " 89: 0.017838031700777357,\n",
       " 90: 0.015451806826463077,\n",
       " 91: 0.013230186524219256,\n",
       " 92: 0.011195623843158309,\n",
       " 93: 0.009361856250110101,\n",
       " 94: 0.007734580675745839,\n",
       " 95: 0.006312424925249083,\n",
       " 96: 0.005088117430610772,\n",
       " 97: 0.004049758126849046,\n",
       " 98: 0.0031821012120212266,\n",
       " 99: 0.002467774003582779,\n",
       " 100: 0.0018883730784566843,\n",
       " 101: 0.0014253974040241424,\n",
       " 102: 0.0010609964316725673,\n",
       " 103: 0.0007785276598544222,\n",
       " 104: 0.0005629319236253316,\n",
       " 105: 0.00040094502474907756,\n",
       " 106: 0.000281171099826949,\n",
       " 107: 0.0001940465160554794,\n",
       " 108: 0.00013172354057466862,\n",
       " 109: 8.790117605705916e-05,\n",
       " 110: 5.762708941681183e-05,\n",
       " 111: 3.7090165106334894e-05,\n",
       " 112: 2.3418493098503745e-05,\n",
       " 113: 1.449303744882613e-05,\n",
       " 114: 8.783168114145923e-06,\n",
       " 115: 5.206881849684208e-06,\n",
       " 116: 3.015970226893927e-06,\n",
       " 117: 1.7045993589981379e-06,\n",
       " 118: 9.38663699212583e-07,\n",
       " 119: 5.027422242953605e-07,\n",
       " 120: 2.613809253482202e-07,\n",
       " 121: 1.3161584089260714e-07,\n",
       " 122: 6.401734875538523e-08,\n",
       " 123: 2.998400727705075e-08,\n",
       " 124: 1.3473395732432891e-08,\n",
       " 125: 5.782673007104222e-09,\n",
       " 126: 2.3577291230481023e-09,\n",
       " 127: 9.07134811711785e-10,\n",
       " 128: 3.2660718574106795e-10,\n",
       " 129: 1.088715784192118e-10,\n",
       " 130: 3.313482821454272e-11,\n",
       " 131: 9.036771331238924e-12,\n",
       " 132: 2.1516122217235534e-12,\n",
       " 133: 4.303224443447107e-13,\n",
       " 134: 6.794564910705958e-14,\n",
       " 135: 7.549516567451064e-15,\n",
       " 136: 4.440892098500626e-16}"
      ]
     },
     "execution_count": 16,
     "metadata": {},
     "output_type": "execute_result"
    }
   ],
   "source": [
    "P = [[i for i in range(1,9)],[1/8 for i in range(8)]]\n",
    "NFoldConv(P,17)"
   ]
  },
  {
   "cell_type": "markdown",
   "metadata": {},
   "source": [
    "#### 4.C\n",
    "Assume that the price of a stock changes in any given day according to (in NIS):\n",
    "\n",
    "$$P=\\begin{pmatrix}\n",
    "-1 & 0 & 1 & 2 & 3 \\\\\n",
    "0.3 & 0.15 & 0.15 & 0.15 & 0.25\n",
    "\\end{pmatrix}$$\n",
    "\n",
    "1. What is the distribution of the change in stock after 2 consecutive days of (independent) changes? After 5 consecutive days? "
   ]
  },
  {
   "cell_type": "code",
   "execution_count": 17,
   "metadata": {},
   "outputs": [
    {
     "data": {
      "text/plain": [
       "{-2: 0.09,\n",
       " -1: 0.09,\n",
       " 0: 0.1125,\n",
       " 1: 0.135,\n",
       " 2: 0.21749999999999997,\n",
       " 3: 0.12,\n",
       " 4: 0.0975,\n",
       " 5: 0.075,\n",
       " 6: 0.0625}"
      ]
     },
     "execution_count": 17,
     "metadata": {},
     "output_type": "execute_result"
    }
   ],
   "source": [
    "Pr = [[i for i in range(-1,4)],[0.3,0.15,0.15,0.15,0.25]]\n",
    "\n",
    "# Distribution after 2 days\n",
    "NFoldConv(Pr, 2)"
   ]
  },
  {
   "cell_type": "code",
   "execution_count": 18,
   "metadata": {},
   "outputs": [
    {
     "data": {
      "text/plain": [
       "{-5: 0.00243,\n",
       " -4: 0.006075,\n",
       " -3: 0.012149999999999998,\n",
       " -2: 0.021262499999999997,\n",
       " -1: 0.038221874999999995,\n",
       " 0: 0.053738437499999986,\n",
       " 1: 0.07074843749999998,\n",
       " 2: 0.08720156249999998,\n",
       " 3: 0.10407656249999997,\n",
       " 4: 0.10719843749999998,\n",
       " 5: 0.10638843749999999,\n",
       " 6: 0.09968906249999998,\n",
       " 7: 0.08860781249999998,\n",
       " 8: 0.0683578125,\n",
       " 9: 0.0517078125,\n",
       " 10: 0.0363571875,\n",
       " 11: 0.0233671875,\n",
       " 12: 0.0120703125,\n",
       " 13: 0.0064453125,\n",
       " 14: 0.0029296875,\n",
       " 15: 0.0009765625}"
      ]
     },
     "execution_count": 18,
     "metadata": {},
     "output_type": "execute_result"
    }
   ],
   "source": [
    "# Distribution after 5 days\n",
    "NFoldConv(Pr,5)"
   ]
  },
  {
   "cell_type": "markdown",
   "metadata": {},
   "source": [
    "2. What is the probability that the stock has gained strictly more than 7NIS after 5 days? Has lost strictly more than 4NIS? Explain your answers."
   ]
  },
  {
   "cell_type": "code",
   "execution_count": 19,
   "metadata": {},
   "outputs": [
    {
     "name": "stdout",
     "output_type": "stream",
     "text": [
      "The probability that the stock has gained strictly more than 7NIS after 5 days is: 0.20221187500000026\n"
     ]
    }
   ],
   "source": [
    "# If Pr is the probability of gaining stock price for 1 given day and Q is the probability of gaining after 5 consecutive days:\n",
    "# Then we are looking for Q[x > 7] = 1 - Q[x<= 7]\n",
    "Q = NFoldConv(Pr,5)\n",
    "cdf = 0\n",
    "for i in range (-5,8):\n",
    "    cdf += Q[i]\n",
    "# Answer\n",
    "1 - cdf  \n",
    "\n",
    "print('The probability that the stock has gained strictly more than 7NIS after 5 days is: ' + str(1-cdf) )"
   ]
  },
  {
   "cell_type": "code",
   "execution_count": 20,
   "metadata": {},
   "outputs": [
    {
     "name": "stdout",
     "output_type": "stream",
     "text": [
      "The probability that the stock has lost strictly more than 4NIS after 5 days is: 0.00243\n"
     ]
    }
   ],
   "source": [
    "# If after 5 days the stock has stricly lost more than 4NIS, then we are looking for value < -4 (-4 is a loss of 4NIS)\n",
    "# Since the most the stock could have lost was -5 among the 5 days, all we need to calculate is probability than x = -5.\n",
    "Q[-5]\n",
    "\n",
    "print('The probability that the stock has lost strictly more than 4NIS after 5 days is: ' + str(Q[-5]) )"
   ]
  }
 ],
 "metadata": {
  "kernelspec": {
   "display_name": "Python 3",
   "language": "python",
   "name": "python3"
  },
  "language_info": {
   "codemirror_mode": {
    "name": "ipython",
    "version": 3
   },
   "file_extension": ".py",
   "mimetype": "text/x-python",
   "name": "python",
   "nbconvert_exporter": "python",
   "pygments_lexer": "ipython3",
   "version": "3.8.0"
  }
 },
 "nbformat": 4,
 "nbformat_minor": 2
}
